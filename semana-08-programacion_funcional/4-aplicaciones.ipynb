{
 "cells": [
  {
   "cell_type": "markdown",
   "metadata": {},
   "source": [
    "<p>\n",
    "<font size='5' face='Georgia, Arial'>IIC2233 Apunte Programación Avanzada</font><br>\n",
    "<font size='1'>&copy; 2015 Karim Pichara - Christian Pieringer. Todos los derechos reservados.</font>\n",
    "<font size='1'> Modificado en 2018-1 al 2024-2 por Equipo Docente IIC2233</font>\n",
    "</p>"
   ]
  },
  {
   "cell_type": "markdown",
   "metadata": {},
   "source": [
    "# Tabla de contenidos\n",
    "\n",
    "1. [Funciones _built-in_ en Python](#Funciones-built-in-en-Python)\n",
    "    1. [`len`](#len)\n",
    "    2. [`__getitem__`](#__getitem__)\n",
    "    3. [`reversed`](#reversed)\n",
    "    4. [Otras funciones *built-in*](#Otras-funciones-built-in)\n",
    "2. [Librerías *built-in*](#Librerías-built-in)\n",
    "    1. [`itertools`](#itertools)\n",
    "    2. [`collections`](#collections)\n",
    "3. [Casos aplicados](#Casos-aplicados)\n",
    "    1. [Consultas anidadas](#Consultas-anidadas)\n",
    "    2. [Unir generadores](#Unir-generadores)\n",
    "    3. [Eficiencia (Generadores vs Estructuras que usan memoria)](#Eficiencia-(Generadores-vs-Estructuras-que-usan-memoria))"
   ]
  },
  {
   "cell_type": "markdown",
   "metadata": {},
   "source": [
    "## Funciones *built-in* en Python\n",
    "\n",
    "Existen muchas funciones que vienen implementadas en Python, principalmente con el propósito de simplificar y \n",
    "abstraer cálculos que pueden aplicar a objetos de clases distintas (*duck typing*). Pueden revisar todas ellas en la [documentación de funciones](https://docs.python.org/3.7/library/functions.html) de Python. Veamos algunos ejemplos:"
   ]
  },
  {
   "cell_type": "markdown",
   "metadata": {},
   "source": [
    "### `len`\n",
    "\n",
    "Retorna el número de elementos que posee un contenedor, como por ejemplo una lista, un diccionario, un *set*, etc."
   ]
  },
  {
   "cell_type": "code",
   "execution_count": 12,
   "metadata": {},
   "outputs": [
    {
     "name": "stdout",
     "output_type": "stream",
     "text": [
      "6\n",
      "2\n"
     ]
    }
   ],
   "source": [
    "print(len([3, 4, 1, 5, 5, 2]))\n",
    "print(len({\"nombre\": \"Juan\", \"apellido\": \"Martínez\"}))"
   ]
  },
  {
   "cell_type": "markdown",
   "metadata": {},
   "source": [
    "La función `len()` aplicada a un objeto en particular (`objeto`) hace un llamado a `objeto.__len__()`. La función `__len__` viene implementada en varias clases de estructuras de datos _built-in_. \n",
    "\n",
    "Podemos ver que llamando a `objeto.__len__()` directamente obtenemos el mismo resultado que a través de `len(objeto)`"
   ]
  },
  {
   "cell_type": "code",
   "execution_count": 13,
   "metadata": {},
   "outputs": [
    {
     "name": "stdout",
     "output_type": "stream",
     "text": [
      "6\n",
      "2\n"
     ]
    }
   ],
   "source": [
    "print([3, 4, 1, 5, 5, 2].__len__())\n",
    "print({\"nombre\": \"Juan\", \"apellido\": \"Martínez\"}.__len__())"
   ]
  },
  {
   "cell_type": "markdown",
   "metadata": {},
   "source": [
    "También se puede hacer *overriding* del método `__len__`. Supongamos que queremos implementar un tipo especial de lista cuyo método `__len__` retorna el largo de la lista sin considerar los elementos que se repiten:"
   ]
  },
  {
   "cell_type": "code",
   "execution_count": 14,
   "metadata": {},
   "outputs": [
    {
     "name": "stdout",
     "output_type": "stream",
     "text": [
      "7\n"
     ]
    }
   ],
   "source": [
    "class MiLista(list):\n",
    "    \"\"\"\n",
    "    Tipo especial de lista, donde len(lista)\n",
    "    retorna el largo sin considerar repetidos\n",
    "    \"\"\"\n",
    "    def __len__(self) -> int:\n",
    "        # Creamos un set con los datos que tenemos\n",
    "        datos_sin_repetir = set(self)\n",
    "        \n",
    "        # Retornamos el largo de este set aprovechando que elimina los repetidos\n",
    "        return len(datos_sin_repetir)\n",
    "    \n",
    "mi_lista = MiLista([1, 2, 3, 4, 5, 6, 6, 7, 7, 7, 7, 2, 2, 3, 3, 1, 1])\n",
    "print(len(mi_lista))"
   ]
  },
  {
   "cell_type": "markdown",
   "metadata": {},
   "source": [
    "### `__getitem__`\n",
    "\n",
    "Al definir esta función dentro de una clase, podemos acceder a los elementos mediante algún tipo de índice o llave usando la notación `objeto[valor]`. Esto da paso a dos comportamientos que podemos emular: una secuencia (donde hay un valor después de otro de manera ordenada, como una lista) o un *mapping* (donde hay llaves que permiten acceder a valores, como un diccionario)."
   ]
  },
  {
   "cell_type": "markdown",
   "metadata": {},
   "source": [
    "En el primer caso, donde queremos que nuestra clase se comporte como una secuencia, el método `__getitem__` debería recibir enteros (`int`) y lanzar la excepción `IndexError` si es que el índice no es válido."
   ]
  },
  {
   "cell_type": "code",
   "execution_count": 15,
   "metadata": {
    "scrolled": true
   },
   "outputs": [
    {
     "name": "stdout",
     "output_type": "stream",
     "text": [
      "Pidiendo el elemento 0:\n",
      "Pidiendo el elemento 15:\n"
     ]
    },
    {
     "ename": "IndexError",
     "evalue": "string index out of range",
     "output_type": "error",
     "traceback": [
      "\u001b[31m---------------------------------------------------------------------------\u001b[39m",
      "\u001b[31mIndexError\u001b[39m                                Traceback (most recent call last)",
      "\u001b[36mCell\u001b[39m\u001b[36m \u001b[39m\u001b[32mIn[15]\u001b[39m\u001b[32m, line 11\u001b[39m\n\u001b[32m      9\u001b[39m mi_string = MiString(\u001b[33m\"\u001b[39m\u001b[33mMundo\u001b[39m\u001b[33m\"\u001b[39m)\n\u001b[32m     10\u001b[39m mi_string[\u001b[32m0\u001b[39m]\n\u001b[32m---> \u001b[39m\u001b[32m11\u001b[39m \u001b[43mmi_string\u001b[49m\u001b[43m[\u001b[49m\u001b[32;43m15\u001b[39;49m\u001b[43m]\u001b[49m\n",
      "\u001b[36mCell\u001b[39m\u001b[36m \u001b[39m\u001b[32mIn[15]\u001b[39m\u001b[32m, line 7\u001b[39m, in \u001b[36mMiString.__getitem__\u001b[39m\u001b[34m(self, i)\u001b[39m\n\u001b[32m      5\u001b[39m \u001b[38;5;28;01mdef\u001b[39;00m\u001b[38;5;250m \u001b[39m\u001b[34m__getitem__\u001b[39m(\u001b[38;5;28mself\u001b[39m, i: \u001b[38;5;28mint\u001b[39m) -> \u001b[38;5;28mstr\u001b[39m:\n\u001b[32m      6\u001b[39m     \u001b[38;5;28mprint\u001b[39m(\u001b[33mf\u001b[39m\u001b[33m\"\u001b[39m\u001b[33mPidiendo el elemento \u001b[39m\u001b[38;5;132;01m{\u001b[39;00mi\u001b[38;5;132;01m}\u001b[39;00m\u001b[33m:\u001b[39m\u001b[33m\"\u001b[39m)\n\u001b[32m----> \u001b[39m\u001b[32m7\u001b[39m     \u001b[38;5;28;01mreturn\u001b[39;00m \u001b[38;5;28;43mself\u001b[39;49m\u001b[43m.\u001b[49m\u001b[43mpalabra\u001b[49m\u001b[43m[\u001b[49m\u001b[43mi\u001b[49m\u001b[43m]\u001b[49m\n",
      "\u001b[31mIndexError\u001b[39m: string index out of range"
     ]
    }
   ],
   "source": [
    "class MiString:\n",
    "    def __init__(self, palabra: str) -> None:\n",
    "        self.palabra = palabra\n",
    "        \n",
    "    def __getitem__(self, i: int) -> str:\n",
    "        print(f\"Pidiendo el elemento {i}:\")\n",
    "        return self.palabra[i]\n",
    "\n",
    "mi_string = MiString(\"Mundo\")\n",
    "mi_string[0]\n",
    "mi_string[15]"
   ]
  },
  {
   "cell_type": "markdown",
   "metadata": {},
   "source": [
    "Definir `__getitem__`, para que nuestra clase se comporte como una secuencia, nos permite iterar sobre la estructura mediante un `for`, es decir, el objeto será **iterable**. En este caso, el `for` irá pidiendo los elementos desde el 0 en adelante hasta que se lance una excepción. En nuestro ejemplo, esto nos permite iterar sobre la palabra completa. Al intentar acceder fuera del largo de la palabra que estamos guardando, se lanza una exepción de tipo `IndexError` que detendrá el `for`."
   ]
  },
  {
   "cell_type": "code",
   "execution_count": 16,
   "metadata": {},
   "outputs": [
    {
     "name": "stdout",
     "output_type": "stream",
     "text": [
      "Pidiendo el elemento 0:\n",
      "M\n",
      "\n",
      "Pidiendo el elemento 1:\n",
      "u\n",
      "\n",
      "Pidiendo el elemento 2:\n",
      "n\n",
      "\n",
      "Pidiendo el elemento 3:\n",
      "d\n",
      "\n",
      "Pidiendo el elemento 4:\n",
      "o\n",
      "\n",
      "Pidiendo el elemento 5:\n"
     ]
    }
   ],
   "source": [
    "for caracter in mi_string:\n",
    "    print(caracter, end='\\n\\n')"
   ]
  },
  {
   "cell_type": "markdown",
   "metadata": {},
   "source": [
    "En el caso de que queramos que nuestra clase se comporte como una estructura de tipo *mapping*, podemos usar cualquier tipo de llave. Si una llave es del tipo equivocado, debería lanzarse la excepción `TypeError`, mientras que si es del tipo correcto pero la llave no existe debería lanzarse la excepción `KeyError`."
   ]
  },
  {
   "cell_type": "markdown",
   "metadata": {},
   "source": [
    "El siguiente ejemplo es similar al primero, pero las llaves son *strings* de una palabra y el valor retornado es la cantidad de veces que aparece dicho *string* en la palabra. Como habrás notado, ahora nuestra función `__getitem__` debería recibir un *string*, lanzando la excepción `TypeError` si no es así."
   ]
  },
  {
   "cell_type": "code",
   "execution_count": 17,
   "metadata": {},
   "outputs": [
    {
     "name": "stdout",
     "output_type": "stream",
     "text": [
      "Pidiendo el elemento o:\n"
     ]
    },
    {
     "data": {
      "text/plain": [
       "2"
      ]
     },
     "execution_count": 17,
     "metadata": {},
     "output_type": "execute_result"
    }
   ],
   "source": [
    "class ContadorLetras:\n",
    "    def __init__(self, palabra: str) -> None:\n",
    "        self.palabra = palabra\n",
    "        \n",
    "    def __getitem__(self, key: str) -> int:\n",
    "        print(f\"Pidiendo el elemento {key}:\")\n",
    "        # Notar que puedes decir levantar una excepción si la llave no está\n",
    "        # if key not in self.palabra:\n",
    "        #     raise KeyError(\"La letra no está en la palabra\")\n",
    "        return self.palabra.count(key)\n",
    "\n",
    "contador_letras = ContadorLetras(\"Hola-Mundo\")\n",
    "contador_letras[\"o\"]"
   ]
  },
  {
   "cell_type": "code",
   "execution_count": 18,
   "metadata": {},
   "outputs": [
    {
     "name": "stdout",
     "output_type": "stream",
     "text": [
      "Pidiendo el elemento 3:\n"
     ]
    },
    {
     "ename": "TypeError",
     "evalue": "must be str, not int",
     "output_type": "error",
     "traceback": [
      "\u001b[31m---------------------------------------------------------------------------\u001b[39m",
      "\u001b[31mTypeError\u001b[39m                                 Traceback (most recent call last)",
      "\u001b[36mCell\u001b[39m\u001b[36m \u001b[39m\u001b[32mIn[18]\u001b[39m\u001b[32m, line 1\u001b[39m\n\u001b[32m----> \u001b[39m\u001b[32m1\u001b[39m \u001b[43mcontador_letras\u001b[49m\u001b[43m[\u001b[49m\u001b[32;43m3\u001b[39;49m\u001b[43m]\u001b[49m\n",
      "\u001b[36mCell\u001b[39m\u001b[36m \u001b[39m\u001b[32mIn[17]\u001b[39m\u001b[32m, line 10\u001b[39m, in \u001b[36mContadorLetras.__getitem__\u001b[39m\u001b[34m(self, key)\u001b[39m\n\u001b[32m      6\u001b[39m \u001b[38;5;28mprint\u001b[39m(\u001b[33mf\u001b[39m\u001b[33m\"\u001b[39m\u001b[33mPidiendo el elemento \u001b[39m\u001b[38;5;132;01m{\u001b[39;00mkey\u001b[38;5;132;01m}\u001b[39;00m\u001b[33m:\u001b[39m\u001b[33m\"\u001b[39m)\n\u001b[32m      7\u001b[39m \u001b[38;5;66;03m# Notar que puedes decir levantar una excepción si la llave no está\u001b[39;00m\n\u001b[32m      8\u001b[39m \u001b[38;5;66;03m# if key not in self.palabra:\u001b[39;00m\n\u001b[32m      9\u001b[39m \u001b[38;5;66;03m#     raise KeyError(\"La letra no está en la palabra\")\u001b[39;00m\n\u001b[32m---> \u001b[39m\u001b[32m10\u001b[39m \u001b[38;5;28;01mreturn\u001b[39;00m \u001b[38;5;28;43mself\u001b[39;49m\u001b[43m.\u001b[49m\u001b[43mpalabra\u001b[49m\u001b[43m.\u001b[49m\u001b[43mcount\u001b[49m\u001b[43m(\u001b[49m\u001b[43mkey\u001b[49m\u001b[43m)\u001b[49m\n",
      "\u001b[31mTypeError\u001b[39m: must be str, not int"
     ]
    }
   ],
   "source": [
    "contador_letras[3]"
   ]
  },
  {
   "cell_type": "markdown",
   "metadata": {},
   "source": [
    "Como supondrás, usar un `for` con nuestra implementación no funcionará, ya que al iterar sobre el objeto se utiliza el índice para acceder a los elementos. "
   ]
  },
  {
   "cell_type": "code",
   "execution_count": 19,
   "metadata": {},
   "outputs": [
    {
     "name": "stdout",
     "output_type": "stream",
     "text": [
      "Pidiendo el elemento 0:\n"
     ]
    },
    {
     "ename": "TypeError",
     "evalue": "must be str, not int",
     "output_type": "error",
     "traceback": [
      "\u001b[31m---------------------------------------------------------------------------\u001b[39m",
      "\u001b[31mTypeError\u001b[39m                                 Traceback (most recent call last)",
      "\u001b[36mCell\u001b[39m\u001b[36m \u001b[39m\u001b[32mIn[19]\u001b[39m\u001b[32m, line 1\u001b[39m\n\u001b[32m----> \u001b[39m\u001b[32m1\u001b[39m \u001b[38;5;28;43;01mfor\u001b[39;49;00m\u001b[43m \u001b[49m\u001b[43mi\u001b[49m\u001b[43m \u001b[49m\u001b[38;5;129;43;01min\u001b[39;49;00m\u001b[43m \u001b[49m\u001b[43mcontador_letras\u001b[49m\u001b[43m:\u001b[49m\n\u001b[32m      2\u001b[39m \u001b[43m    \u001b[49m\u001b[38;5;28;43mprint\u001b[39;49m\u001b[43m(\u001b[49m\u001b[43mi\u001b[49m\u001b[43m)\u001b[49m\n",
      "\u001b[36mCell\u001b[39m\u001b[36m \u001b[39m\u001b[32mIn[17]\u001b[39m\u001b[32m, line 10\u001b[39m, in \u001b[36mContadorLetras.__getitem__\u001b[39m\u001b[34m(self, key)\u001b[39m\n\u001b[32m      6\u001b[39m \u001b[38;5;28mprint\u001b[39m(\u001b[33mf\u001b[39m\u001b[33m\"\u001b[39m\u001b[33mPidiendo el elemento \u001b[39m\u001b[38;5;132;01m{\u001b[39;00mkey\u001b[38;5;132;01m}\u001b[39;00m\u001b[33m:\u001b[39m\u001b[33m\"\u001b[39m)\n\u001b[32m      7\u001b[39m \u001b[38;5;66;03m# Notar que puedes decir levantar una excepción si la llave no está\u001b[39;00m\n\u001b[32m      8\u001b[39m \u001b[38;5;66;03m# if key not in self.palabra:\u001b[39;00m\n\u001b[32m      9\u001b[39m \u001b[38;5;66;03m#     raise KeyError(\"La letra no está en la palabra\")\u001b[39;00m\n\u001b[32m---> \u001b[39m\u001b[32m10\u001b[39m \u001b[38;5;28;01mreturn\u001b[39;00m \u001b[38;5;28;43mself\u001b[39;49m\u001b[43m.\u001b[49m\u001b[43mpalabra\u001b[49m\u001b[43m.\u001b[49m\u001b[43mcount\u001b[49m\u001b[43m(\u001b[49m\u001b[43mkey\u001b[49m\u001b[43m)\u001b[49m\n",
      "\u001b[31mTypeError\u001b[39m: must be str, not int"
     ]
    }
   ],
   "source": [
    "for i in contador_letras:\n",
    "    print(i)"
   ]
  },
  {
   "cell_type": "markdown",
   "metadata": {},
   "source": [
    "### `reversed`\n",
    "\n",
    "La función `reversed()` toma una **secuencia** cualquiera como input y retorna **una copia de la secuencia** en orden inverso. También podemos personalizar la función haciendo *overriding* de `__reversed__` en cada clase. \n",
    "\n",
    "Si no personalizamos el método `__reversed__`, se usará el *built-in* que iterará usando `__getitem__` y `__len__`. En ese caso, se itera `__len__` veces sobre el objeto usando `__getitem__` hacia atrás.\n",
    "\n",
    "Por ejemplo, podemos definir un tipo especial de lista que hace *override* de `__reversed__`. En este caso, intercambia la primera mitad con la segunda, en vez de invertir el orden de los elementos."
   ]
  },
  {
   "cell_type": "code",
   "execution_count": 20,
   "metadata": {},
   "outputs": [
    {
     "name": "stdout",
     "output_type": "stream",
     "text": [
      "Clase list: 6, 5, 4, 3, 2, 1, \n",
      "Clase ListaReversaMitad: 4, 5, 6, 1, 2, 3, \n"
     ]
    }
   ],
   "source": [
    "class ListaReversaMitad(list):\n",
    "    def __init__(self, *args) -> None:\n",
    "        super().__init__(args)\n",
    "        \n",
    "    def __reversed__(self) -> list:\n",
    "        mitad = len(self) // 2\n",
    "        return self[mitad:] + self[:mitad]\n",
    "    \n",
    "\n",
    "lista = [1, 2, 3, 4, 5, 6]\n",
    "\n",
    "for secuencia in lista, ListaReversaMitad(*lista):\n",
    "    print(f\"Clase {type(secuencia).__name__}: \", end=\"\")\n",
    "\n",
    "    for elemento in reversed(secuencia):\n",
    "        print(elemento, end=\", \")\n",
    "    print()"
   ]
  },
  {
   "cell_type": "markdown",
   "metadata": {},
   "source": [
    "### Otras funciones *built-in*\n",
    "\n",
    "Además de las funciones antes nombradas, Python cuenta con otras [funciones built-in](https://docs.python.org/3/library/functions.html) que también puedes ser aplicadas sobre iterables. \n",
    "\n",
    "Hay funciones que tienen un enfoque más matemático:\n",
    "* `sum()`\n",
    "* `min()`\n",
    "* `max()`\n",
    "\n",
    "Y otras con un enfoque booleano:\n",
    "* `all()`\n",
    "* `any()`"
   ]
  },
  {
   "cell_type": "markdown",
   "metadata": {},
   "source": [
    "Un caso donde es útil utilizar estas funciones cuando:\n",
    "\n",
    "1. Queremos obtener la cantidad de elementos de un generador, sin tener que transformarlo en otra estructura de datos.  \n",
    "     \n",
    "   Por defecto, los generadores no presentan el método `__len__()`, por lo que no es posible obtener su largo utilizando dicho método:"
   ]
  },
  {
   "cell_type": "code",
   "execution_count": 21,
   "metadata": {},
   "outputs": [
    {
     "ename": "TypeError",
     "evalue": "object of type 'generator' has no len()",
     "output_type": "error",
     "traceback": [
      "\u001b[31m---------------------------------------------------------------------------\u001b[39m",
      "\u001b[31mTypeError\u001b[39m                                 Traceback (most recent call last)",
      "\u001b[36mCell\u001b[39m\u001b[36m \u001b[39m\u001b[32mIn[21]\u001b[39m\u001b[32m, line 3\u001b[39m\n\u001b[32m      1\u001b[39m generador = (i \u001b[38;5;28;01mfor\u001b[39;00m i \u001b[38;5;129;01min\u001b[39;00m \u001b[38;5;28mrange\u001b[39m(\u001b[32m10\u001b[39m))\n\u001b[32m----> \u001b[39m\u001b[32m3\u001b[39m largo = \u001b[38;5;28;43mlen\u001b[39;49m\u001b[43m(\u001b[49m\u001b[43mgenerador\u001b[49m\u001b[43m)\u001b[49m\n\u001b[32m      4\u001b[39m \u001b[38;5;28mprint\u001b[39m(\u001b[33mf\u001b[39m\u001b[33m'\u001b[39m\u001b[33mLargo generador: \u001b[39m\u001b[38;5;132;01m{\u001b[39;00mlargo\u001b[38;5;132;01m}\u001b[39;00m\u001b[33m'\u001b[39m)\n",
      "\u001b[31mTypeError\u001b[39m: object of type 'generator' has no len()"
     ]
    }
   ],
   "source": [
    "generador = (i for i in range(10))\n",
    "\n",
    "largo = len(generador)\n",
    "print(f'Largo generador: {largo}')"
   ]
  },
  {
   "cell_type": "markdown",
   "metadata": {},
   "source": [
    "   Pero haciendo uso de la función built-in `sum` junto con `map`, es posible calcular el porte del generador:"
   ]
  },
  {
   "cell_type": "code",
   "execution_count": 22,
   "metadata": {},
   "outputs": [
    {
     "name": "stdout",
     "output_type": "stream",
     "text": [
      "Largo generador: 10\n"
     ]
    }
   ],
   "source": [
    "generador = (i for i in range(10))\n",
    "\n",
    "largo = sum(map(lambda x: 1, generador))\n",
    "print(f'Largo generador: {largo}')"
   ]
  },
  {
   "cell_type": "markdown",
   "metadata": {},
   "source": [
    "2. Cuando queremos verificar si todos o alguno de los elementos de un iterble cumplen con alguna condición en específico."
   ]
  },
  {
   "cell_type": "code",
   "execution_count": 23,
   "metadata": {},
   "outputs": [
    {
     "name": "stdout",
     "output_type": "stream",
     "text": [
      "Todos los elementos del iterable son impares: False\n",
      "El iterable contiene al menos un elemento par: True\n"
     ]
    }
   ],
   "source": [
    "iterable = {1, 3, 5, 11, 8, 9}\n",
    "\n",
    "todos_son_impar = all(map(lambda x: x % 2 == 0, iterable))\n",
    "contiene_un_par = any(map(lambda x: x % 2 == 1, iterable))\n",
    "\n",
    "print(f'Todos los elementos del iterable son impares: {todos_son_impar}')\n",
    "print(f'El iterable contiene al menos un elemento par: {contiene_un_par}')"
   ]
  },
  {
   "cell_type": "markdown",
   "metadata": {},
   "source": [
    "## Librerías *built-in*\n",
    "\n",
    "Dentro del contexto de Python, también tenemos librerías *built-in* que nos permitirán trabajar con mayor facilidad las consultas relacionadas a la programación funcional."
   ]
  },
  {
   "cell_type": "markdown",
   "metadata": {},
   "source": [
    "### `itertools`"
   ]
  },
  {
   "cell_type": "markdown",
   "metadata": {},
   "source": [
    "La [librería *built-in* `itertools`](https://docs.python.org/3/library/itertools.html), la cual cuenta con funciones especializadas en trabajar con iteradores. Dentro de este módulo podemos encontrar:\n",
    "* Funciones que entregan iteradores infinitos:\n",
    "    * `count()`\n",
    "    * `cycle()`\n",
    "    * `repeat()`\n",
    "* Funciones orientadas en la combinatoria:\n",
    "    * `product()`\n",
    "    * `permutations()`\n",
    "    * `combinations()`\n",
    "* y muchos más...\n",
    "\n",
    "A continuación veremos algunos ejemplos, pero te invitamos a investigar más al respecto y evaluar casos donde estas funciones puedas ser de utilidad."
   ]
  },
  {
   "cell_type": "markdown",
   "metadata": {},
   "source": [
    "1. La función `count()` entrega un generador infinito que nos permite contar desde `0` aumentando los valores en `1`. Esta función nos permite cambiar el valor desde el que queremos contar (`start`) o el valor que será utilizado para aumentar el contador (`step`)."
   ]
  },
  {
   "cell_type": "code",
   "execution_count": 24,
   "metadata": {},
   "outputs": [
    {
     "name": "stdout",
     "output_type": "stream",
     "text": [
      "10\n",
      "10.5\n",
      "11.0\n",
      "11.5\n",
      "12.0\n",
      "12.5\n"
     ]
    }
   ],
   "source": [
    "from itertools import count\n",
    "\n",
    "contador = count(10, 0.5)\n",
    "\n",
    "for _ in range(6):\n",
    "    print(next(contador))"
   ]
  },
  {
   "cell_type": "markdown",
   "metadata": {},
   "source": [
    "2. La función `combinations()` recibe un iterable y número entero `r`, entrega un generador con la combinatoria de los distintos elementos del iterable, donde cada combinación entregada es de porte `r`."
   ]
  },
  {
   "cell_type": "code",
   "execution_count": 25,
   "metadata": {},
   "outputs": [
    {
     "name": "stdout",
     "output_type": "stream",
     "text": [
      "[('A', 'B'), ('A', 'C'), ('A', 'D'), ('B', 'C'), ('B', 'D'), ('C', 'D')]\n",
      "[('A', 'B', 'C', 'D')]\n"
     ]
    }
   ],
   "source": [
    "from itertools import combinations\n",
    "\n",
    "combinaciones_grupos_2 = combinations('ABCD', 2)\n",
    "combinaciones_grupos_4 = combinations('ABCD', 4)\n",
    "\n",
    "print(list(combinaciones_grupos_2))\n",
    "print(list(combinaciones_grupos_4))\n"
   ]
  },
  {
   "cell_type": "markdown",
   "metadata": {},
   "source": [
    "### `collections`"
   ]
  },
  {
   "cell_type": "markdown",
   "metadata": {},
   "source": [
    "Por otro lado, [la librería *built-in* `collections`](https://docs.python.org/3/library/collections.html) nos entrega alternativas a *dicts*, *lists*, *sets* y *tuples*.\n",
    "\n",
    "Entre los métodos y objetos que ya hemos visto podemos encontrar:\n",
    "* `namedtuple()` \n",
    "* `deque` \n",
    "* `defaultdict`\n",
    "\n",
    "Pero también cuenta con otros objetos como:\n",
    "* `Counter`\n",
    "\n",
    "Veamos un ejemplos:"
   ]
  },
  {
   "cell_type": "markdown",
   "metadata": {},
   "source": [
    "1. El objeto `Counter` es una subclase de diccionario que permite contar los elementos de un iterable. Cada elementos será almacenado como llave del diccionario y sus recuentos, como valores del mismo.  \n",
    "     \n",
    "   Es importante tener en consideración que para que `Counter` funcione correctamente, los elementos del iterable deben ser hasheables."
   ]
  },
  {
   "cell_type": "code",
   "execution_count": 26,
   "metadata": {},
   "outputs": [
    {
     "data": {
      "text/plain": [
       "Counter({2: 8, 1: 7, 3: 5})"
      ]
     },
     "execution_count": 26,
     "metadata": {},
     "output_type": "execute_result"
    }
   ],
   "source": [
    "from collections import Counter\n",
    "from random import randint\n",
    "\n",
    "iterable = [randint(1, 3) for _ in range(20)]\n",
    "contador = Counter(iterable)\n",
    "contador"
   ]
  },
  {
   "cell_type": "markdown",
   "metadata": {},
   "source": [
    "Además, el objeto `Counter` no solo nos permite obtener la cantidad de veces que se repite cada elemento del iterable, también lo podemos utilizar para encontrar los elementos más repetidos dentro del mismo:"
   ]
  },
  {
   "cell_type": "code",
   "execution_count": 27,
   "metadata": {},
   "outputs": [
    {
     "data": {
      "text/plain": [
       "[('i', 6), ('s', 4), ('a', 3)]"
      ]
     },
     "execution_count": 27,
     "metadata": {},
     "output_type": "execute_result"
    }
   ],
   "source": [
    "texto = 'supercalifragilisticoespialidoso'\n",
    "contador = Counter(texto)  # Recuerda que los strings también son iterables\n",
    "contador.most_common(3)"
   ]
  },
  {
   "cell_type": "markdown",
   "metadata": {},
   "source": [
    "## Casos aplicados\n",
    "\n",
    "Finalmente, para ir cerrando este contenido, veamos algunos casos aplicados donde se haga uso de los contenidos vistos hasta el momento."
   ]
  },
  {
   "cell_type": "markdown",
   "metadata": {},
   "source": [
    "### Consultas anidadas\n",
    "\n",
    "Una de las grandes características que presenta la programación funcional, es que podemos anidar las consultas que se realizan, siempre y cuando estas retornen un generador o algún tipo de estructura iterable."
   ]
  },
  {
   "cell_type": "markdown",
   "metadata": {},
   "source": [
    "Por ejemplo, asumiendo que tenemos un generador con información de distintas lenguas extintas o en peligro de extinción, donde cada grupo de datos contiene:\n",
    "* ID\n",
    "* Nombre de la lengua\n",
    "* Países donde se habla (separador por ;)\n",
    "* El código de los países donde se habla (separador por ;)\n",
    "* El grado de peligro\n",
    "* La cantidad de hablantes"
   ]
  },
  {
   "cell_type": "code",
   "execution_count": 28,
   "metadata": {},
   "outputs": [],
   "source": [
    "from collections import namedtuple\n",
    "from typing import Generator\n",
    "\n",
    "\n",
    "LenguaExtinta = namedtuple('LenguaExtinta', 'id, name, country, country_code, endangerment, speakers')\n",
    "\n",
    "def generador_lenguas_extintas() -> Generator:\n",
    "    yield LenguaExtinta(349, 'Juang', 'India', 'IND', 'Definitely endangered', 230000)\n",
    "    yield LenguaExtinta(350, 'Tiwa', 'India', 'IND', 'Definitely endangered', 230000)\n",
    "    yield LenguaExtinta(351, 'Embera (Panama)','Panama', 'PAN', 'Vulnerable', 224850)\n",
    "    yield LenguaExtinta(352, 'Ediamat', 'Guinea-Bissau', 'GNB', 'Vulnerable', 220250)\n",
    "    yield LenguaExtinta(353, 'Mara', 'India', 'IND', 'Definitely endangered', 220000)\n",
    "    yield LenguaExtinta(354, 'Maring', 'India', 'IND', 'Vulnerable', 220000)"
   ]
  },
  {
   "cell_type": "markdown",
   "metadata": {},
   "source": [
    "A partir del generador podríamos anidar consultas para encontrar la cantidad total de hablantes de la India, que saben lenguas que se encuentran en un estado vulnerable."
   ]
  },
  {
   "cell_type": "code",
   "execution_count": 29,
   "metadata": {},
   "outputs": [
    {
     "name": "stdout",
     "output_type": "stream",
     "text": [
      "Los hablantes totales son: 220000\n"
     ]
    }
   ],
   "source": [
    "lenguas_india = filter(lambda lengua: lengua.country == 'India', generador_lenguas_extintas())\n",
    "lenguas_vulnerables = filter(lambda lengua: lengua.endangerment == 'Vulnerable', lenguas_india)\n",
    "hablantes_totales = sum(map(lambda lengua: lengua.speakers, lenguas_vulnerables))\n",
    "\n",
    "print('Los hablantes totales son:', hablantes_totales)"
   ]
  },
  {
   "cell_type": "markdown",
   "metadata": {},
   "source": [
    "Otra forma de haber logrado lo anterior, es haber unido consultas: ya sea por medio de las funciones lambda o de los inputs de cada una:"
   ]
  },
  {
   "cell_type": "code",
   "execution_count": 30,
   "metadata": {},
   "outputs": [
    {
     "name": "stdout",
     "output_type": "stream",
     "text": [
      "Los hablantes totales son: 220000\n"
     ]
    }
   ],
   "source": [
    "hablantes_totales = sum(\n",
    "    map(lambda lengua: lengua.speakers, \n",
    "        filter(lambda lengua: (lengua.country == 'India') and (lengua.endangerment == 'Vulnerable'),\n",
    "               generador_lenguas_extintas())))\n",
    "\n",
    "print('Los hablantes totales son:', hablantes_totales)"
   ]
  },
  {
   "cell_type": "markdown",
   "metadata": {},
   "source": [
    "### Unir generadores\n",
    "\n",
    "En múltiples ocasiones deberemos unir dos o generadores en base a distintas condiciones.\n",
    "\n",
    "En este caso, trabajaremos con dos generadores de números y busquemos todos los pares que al mezclarlos sumen un múltiplo de 5. "
   ]
  },
  {
   "cell_type": "code",
   "execution_count": 31,
   "metadata": {},
   "outputs": [
    {
     "name": "stdout",
     "output_type": "stream",
     "text": [
      "[(10, 50), (10, 25), (6, 29), (6, 24), (6, 39), (6, 29), (7, 48), (7, 38), (1, 29), (1, 24), (1, 39), (1, 29), (10, 50), (10, 25), (6, 29), (6, 24), (6, 39), (6, 29), (15, 50), (15, 25), (0, 50), (0, 25), (15, 50), (15, 25)]\n"
     ]
    }
   ],
   "source": [
    "from itertools import product\n",
    "from random import randint\n",
    "\n",
    "\n",
    "generador_1 = (randint(0, 20) for _ in range(10))\n",
    "generador_2 = (randint(20, 50) for _ in range(10))\n",
    "\n",
    "combinaciones = product(generador_1, generador_2)\n",
    "\n",
    "# Es importante notar que 'product' nos entrega un generador que contiene tuplas\n",
    "# con los pares de elementos de ambos generadores, por lo que al momento de querer\n",
    "# aplicar una función sobre estos elementos, deberemos hacer indexación sobre ellos\n",
    "# o utilizar funciones que operen sobre iteradores.\n",
    "pares_multiplos_de_5 = filter(lambda x: (x[0] + x[1]) % 5 == 0, combinaciones)\n",
    "\n",
    "print(list(pares_multiplos_de_5))"
   ]
  },
  {
   "cell_type": "markdown",
   "metadata": {},
   "source": [
    "### Agrupar información a través de diccionarios\n",
    "\n",
    "A veces será necesario agrupar la información de un generador por medio de diccionarios. A continuación, evaluaremos diversas formas de lograr esto mismo.\n",
    "\n",
    "Aprovechemos el listado de lenguas extintas y en peligro de extinción que usamos antes, y agrupemos la cantidad de lenguas que hay por país. "
   ]
  },
  {
   "cell_type": "code",
   "execution_count": 32,
   "metadata": {},
   "outputs": [],
   "source": [
    "from collections import namedtuple\n",
    "from typing import Generator\n",
    "\n",
    "\n",
    "LenguaExtinta = namedtuple('LenguaExtinta', 'id, name, country, country_code, endangerment, speakers')\n",
    "\n",
    "def generador_lenguas_extintas() -> Generator:\n",
    "    yield LenguaExtinta(349, 'Juang', 'India', 'IND', 'Definitely endangered', 230000)\n",
    "    yield LenguaExtinta(350, 'Tiwa', 'India', 'IND', 'Definitely endangered', 230000)\n",
    "    yield LenguaExtinta(351, 'Embera (Panama)','Panama', 'PAN', 'Vulnerable', 224850)\n",
    "    yield LenguaExtinta(352, 'Ediamat', 'Guinea-Bissau', 'GNB', 'Vulnerable', 220250)\n",
    "    yield LenguaExtinta(353, 'Mara', 'India', 'IND', 'Definitely endangered', 220000)\n",
    "    yield LenguaExtinta(354, 'Maring', 'India', 'IND', 'Vulnerable', 220000)"
   ]
  },
  {
   "cell_type": "markdown",
   "metadata": {},
   "source": [
    "1. Utilizando estructuras por comprensión:  \n",
    "     \n",
    "   **Nota:** Dado que en este ejercicio recorreremos el generador en más de una ocasión, lo transformaremos en una lista; pero esto no siempre puede ser una buena alternativa."
   ]
  },
  {
   "cell_type": "code",
   "execution_count": 33,
   "metadata": {},
   "outputs": [
    {
     "name": "stdout",
     "output_type": "stream",
     "text": [
      "{'Guinea-Bissau': 1, 'Panama': 1, 'India': 4}\n"
     ]
    }
   ],
   "source": [
    "países = map(lambda lengua: lengua.country, generador_lenguas_extintas())\n",
    "lista_países = list(países)\n",
    "\n",
    "contador = {país: lista_países.count(país) for país in set(lista_países)}\n",
    "print(contador)"
   ]
  },
  {
   "cell_type": "markdown",
   "metadata": {},
   "source": [
    "2. Utilizando el objeto `Counter` de `collections`:"
   ]
  },
  {
   "cell_type": "code",
   "execution_count": 34,
   "metadata": {},
   "outputs": [
    {
     "name": "stdout",
     "output_type": "stream",
     "text": [
      "Counter({'India': 4, 'Panama': 1, 'Guinea-Bissau': 1})\n"
     ]
    }
   ],
   "source": [
    "from collections import Counter\n",
    "\n",
    "países = map(lambda lengua: lengua.country, generador_lenguas_extintas())\n",
    "contador = Counter(países)\n",
    "print(contador)"
   ]
  },
  {
   "cell_type": "markdown",
   "metadata": {},
   "source": [
    "3. Utilizando `reduce`:"
   ]
  },
  {
   "cell_type": "code",
   "execution_count": 35,
   "metadata": {},
   "outputs": [
    {
     "name": "stdout",
     "output_type": "stream",
     "text": [
      "{'India': 4, 'Panama': 1, 'Guinea-Bissau': 1}\n"
     ]
    }
   ],
   "source": [
    "from functools import reduce\n",
    "\n",
    "\n",
    "def función_auxiliar(diccionario, lengua) -> dict:\n",
    "    país = lengua.country\n",
    "    \n",
    "    if país not in diccionario:\n",
    "        diccionario[país] = 0\n",
    "\n",
    "    diccionario[lengua.country] += 1\n",
    "    return diccionario\n",
    "\n",
    "contador = reduce(función_auxiliar, generador_lenguas_extintas(), {})\n",
    "print(contador)"
   ]
  },
  {
   "cell_type": "markdown",
   "metadata": {},
   "source": [
    "### Eficiencia (Generadores vs Estructuras que usan memoria)\n",
    "\n",
    "Finalmente, realicemos algunos ejemplos aplicados donde comparemos la realizar consultas utilizando unicamente generadores vs estructuras que utilizan memoria (*lists*, *dicts*, *tuples*, *sets*, ...).\n",
    "\n",
    "Para esto, utilizaremos un *dataset* de transacciones que tarjetas de crédito, el cual cuenta con más de 1,2 millones de datos y pesa más de 300MB.\n",
    "\n",
    "**Consideraciones**\n",
    "> Debido a que los códigos de esta sección están limitados para ser ejecutados en un tiempo límite, en este _notebook_ encontrarás los códigos implementados como texto y los resultados de la ejecución de los mismos. Estos fueron ejecutados usando `python -B -m unittest -v`; el `-B` para que no se use el caché y así tener valores mas comparables.\n",
    "> \n",
    "> Si quieres ejecutar los códigos en tu computador, deberás descargar el _dataset_ utilizado desde el siguiente [link](https://drive.google.com/file/d/1MGdc-zl018gckkQpznjVxJ3cgtzXAmaD/view?usp=sharing) y ubicar los archivos en la carpeta `código_eficiencia/data/`. Si ubicas los archivos bien, te debería quedar la siguiente estructura de archivos:\n",
    "> ```txt\n",
    ">     semana_08_programacion_funcional\n",
    ">     │   1-paradigma_funcional.ipynb\n",
    ">     │               ⋮\n",
    ">     │\n",
    ">     └───código_eficiencia\n",
    ">     │   │   test_1_cargar_archivo.py\n",
    ">     │   │             ⋮\n",
    ">     │   │\n",
    ">     │   └───data\n",
    ">     │       │   credit_card_transactions.csv\n",
    ">     │       │   states.csv\n",
    "> ```"
   ]
  },
  {
   "cell_type": "markdown",
   "metadata": {},
   "source": [
    "1. **Leer archivos línea por línea vs Leer el archivo completo.**  \n",
    "     \n",
    "   Al momento de leer el contenido de un archivo existe tanto la posibilidad de revisar el contenido del archivo de apoco (`for line in file`) o cargar todo el contenido del archivo (`file.readlines()`). Veamos cómo se comporta el código cuando accedemos al contenido de distintas maneras.  \n",
    "      \n",
    "    ```python\n",
    "    def cargar_archivo_generador() -> Generator:\n",
    "        with open(ruta_transacciones, encoding='utf-8') as file:\n",
    "            for line in file:\n",
    "                yield line.strip().split(',')\n",
    "    \n",
    "    def cargar_archivo_memoria() -> Generator:\n",
    "        with open(ruta_transacciones, encoding='utf-8') as file:\n",
    "            for line in file.readlines():\n",
    "                yield line.strip().split(',')\n",
    "    ```  \n",
    "      \n",
    "    Al ejecutar los códigos 10 veces y acceder a los primeros 100.000 datos, podemos observar los siguientes tiempos totales de ejecución:\n",
    "    ```txt\n",
    "        Tiempo ejecución 'cargar_archivo_generador'   3.98 segundos\n",
    "        Tiempo ejecución 'cargar_archivo_memoria'    10.80 segundos\n",
    "    ```"
   ]
  },
  {
   "cell_type": "markdown",
   "metadata": {},
   "source": [
    "2. **Cargar los datos como `namedtuple` vs Cargar los datos como clases.**  \n",
    "      \n",
    "    Otro punto importante a tener en consideración el momento de trabajar con grandes cantidades de datos, es ver si se cargará la información como una `namedtuple` o si se utilizarán clases personalizadas.\n",
    "\n",
    "    ```python\n",
    "    def cargar_namedtuples() -> Generator:\n",
    "        with open(ruta_estados, encoding='utf-8') as file:\n",
    "            for line in file:\n",
    "                info = line.strip().split(';')\n",
    "                yield NamedTupleEstado(*info)\n",
    "\n",
    "    def cargar_clases() -> Generator:\n",
    "        with open(ruta_estados, encoding='utf-8') as file:\n",
    "            for line in file:\n",
    "                info = line.strip().split(';')\n",
    "                yield ClaseEstado(*info)\n",
    "    ```  \n",
    "      \n",
    "    Al ejecutar los códigos 10 veces, y acceder a los primeros 100000 datos, podemos observar los siguientes tiempos totales de ejecución son muy similares.\n",
    "      \n",
    "    Pero recuerda que la diferencia entre usar `namedtuples` y clases no solo tiene efectos en los tiempo de ejecución, sino que también afecta la memoria que ocupa nuestro programa:\n",
    "    ```txt\n",
    "        Uso memoria 'cargar_namedtuples'             25.37 MB\n",
    "        Uso memoria 'cargar_clases'                  28.43 MB\n",
    "    ```"
   ]
  },
  {
   "cell_type": "markdown",
   "metadata": {},
   "source": [
    "3. **Agrupar generadores con funciones especializadas vs Agrupar generadores de forma manual.**  \n",
    "\n",
    "    En muchas ocasiones la información que debemos utilizar estará dividida en distintos generadores, por lo que deberemos agrupar la información, esta acción (u operación) es conocido como \"_data join_\". Veamos cómo cambia el comportamiento del código cuando utilizamos funciones especializadas en agrupar información, en comparación a hacerlo de forma manual.\n",
    "\n",
    "    ```python\n",
    "    def join_con_generadores(transacciones: Generator, estados: Generator) -> filter:\n",
    "        join_generadores = product(transacciones, estados)\n",
    "        join_filtrado = filter(lambda x: x[0].state == x[1][0], join_generadores)\n",
    "        return join_filtrado\n",
    "    ```\n",
    "\n",
    "    ```python\n",
    "    def join_manual(transacciones: Generator, estados: Generator) -> list:\n",
    "        dict_transacciones = defaultdict(list)\n",
    "        list(map(lambda t: dict_transacciones[t.state].append(t), transacciones))\n",
    "        join_anidado = (((t, e) for t in dict_transacciones[e[0]]) for e in estados)\n",
    "        join = reduce(lambda acc, t: acc + list(t), join_anidado, [])\n",
    "        return join\n",
    "    ```  \n",
    "      \n",
    "    Al ejecutar los códigos 10 veces podemos observar los siguientes tiempos totales de ejecución:\n",
    "    ```txt\n",
    "        Tiempo ejecución 'join_con_generadores'      39.18 segundos\n",
    "        Tiempo ejecución 'join_manual'               52.49 segundos\n",
    "    ```  \n"
   ]
  },
  {
   "cell_type": "markdown",
   "metadata": {},
   "source": [
    "En resumen, al momento de trabajar con estructuras Generadores es importante pensar en el código en términos de:\n",
    "- Eficiencia\n",
    "    - Cómo se carga la información\n",
    "    - Cómo se maneja la información\n",
    "- Comportamiento\n",
    "    - Qué hacen las distintas funciones\n",
    "    - Qué retornan las distintas funciones"
   ]
  }
 ],
 "metadata": {
  "kernelspec": {
   "display_name": "Python 3 (ipykernel)",
   "language": "python",
   "name": "python3"
  },
  "language_info": {
   "codemirror_mode": {
    "name": "ipython",
    "version": 3
   },
   "file_extension": ".py",
   "mimetype": "text/x-python",
   "name": "python",
   "nbconvert_exporter": "python",
   "pygments_lexer": "ipython3",
   "version": "3.11.7"
  }
 },
 "nbformat": 4,
 "nbformat_minor": 4
}
