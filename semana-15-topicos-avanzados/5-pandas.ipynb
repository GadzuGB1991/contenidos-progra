{
 "cells": [
  {
   "cell_type": "markdown",
   "metadata": {},
   "source": [
    "<p>\n",
    "<font size='5' face='Georgia, Arial'>IIC2233 Apunte Programación Avanzada</font><br>\n",
    "<font size='1'>&copy; 2024 Francisca Cattan.</font>\n",
    "<br>\n",
    "<font size='1'> Modificado 2025-2 por Equipo Docente IIC2233</font>\n",
    "</p>"
   ]
  },
  {
   "cell_type": "markdown",
   "metadata": {},
   "source": [
    "# Tabla de contenidos\n",
    "\n",
    "1. [Análisis de datos con Pandas](#Análisis-de-datos-con-Pandas)\n",
    "2. [Manipulación de DataFrames](#Manipulación-de-DataFrames)\n",
    "    1. [Explorando el DataFrame](#Explorando-el-DataFrame)\n",
    "    2. [Filtrado y selección de datos](#Filtrado-y-selección-de-datos)\n",
    "3. [Modificación de estructura y datos](#Modificación-de-estructura-y-datos)\n",
    "    1. [Visualización usando matplotlib](#Visualización-usando-matplotlib)\n",
    "4. [Combinación de varios DataFrames](#Combinación-de-varios-Dataframes)\n",
    "5. [Guardar y abrir datos como CSV](#Guardar-y-abrir-datos-como-CSV)"
   ]
  },
  {
   "cell_type": "markdown",
   "metadata": {
    "id": "TA6_NdF3GdRX"
   },
   "source": [
    "# Análisis de datos con Pandas\n",
    "\n",
    "Nos adentraremos brevemente en el análisis de datos, utilizando la librería `Pandas`. Para mayor profundización luego de esta introducción, [recomendamos la documentación de `Pandas`](https://pandas.pydata.org/docs/index.html).\n",
    "\n",
    "**¿Por qué Pandas?**\n",
    "\n",
    "En el ámbito del análisis y la manipulación de datos, la capacidad de manejar grandes conjuntos de datos de manera eficiente y efectiva es crucial. `Pandas` es una biblioteca de Python esencial que proporciona estructuras de datos y herramientas de alto rendimiento diseñadas específicamente para facilitar estas tareas. A continuación nombraremos algunas ventajas de aprender esta herramienta.\n",
    "\n",
    "- Estructuras de datos poderosas: Ofrece dos estructuras principales: *Series* (arreglos unidimensionales etiquetados) y *DataFrames* (estructuras bidimensionales similares a tablas de bases de datos o hojas de cálculo de Excel).\n",
    "\n",
    "- Manipulación y limpieza de datos: Facilita operaciones como filtrado, selección, transformación y agregación de datos, lo que simplifica el proceso de preparación de datos para análisis posteriores.\n",
    "\n",
    "- Soporte para múltiples formatos de datos: Permite leer y escribir datos en diversos formatos, como CSV, Excel, SQL, JSON, entre otros, facilitando la integración con diferentes fuentes de datos.\n",
    "\n",
    "- Integración con otras bibliotecas: Se integra con bibliotecas como `NumPy`, `Matplotlib` (para visualizar datos) y `scikit-learn` (para realizar predicciones sobre los datos).\n",
    "\n",
    "Es importante destacar que **`Pandas` está construido sobre `NumPy`**. Esto significa que utiliza arrays de `NumPy` internamente para almacenar y manipular los datos. Gracias a esta base, `¡¡¡Pandas` hereda muchas de las ventajas de `NumPy`!!!"
   ]
  },
  {
   "cell_type": "markdown",
   "metadata": {},
   "source": [
    "# Antes de empezar...\n",
    "\n",
    "Es necesario instalar las librerías que utilizaremos en este _notebook_, para esto debes correr los siguientes comandos en tu terminal:\n",
    "```bash\n",
    "python3 -m pip install pandas\n",
    "python3 -m pip install matplotlib\n",
    "```\n",
    "Recuerda que si `python3` no funciona, probar con `python`, `py` o `py3`.\n",
    "\n",
    "Al ejecutar los comandos `pip install` verás como se cargan las librerías necesarias o te informará que todo está en orden si es que ya cuentas con `Pandas` y `Matplotlib`."
   ]
  },
  {
   "cell_type": "markdown",
   "metadata": {},
   "source": [
    "# ¡Empecemos!"
   ]
  },
  {
   "cell_type": "markdown",
   "metadata": {
    "id": "IxeNCBZ_GdRa"
   },
   "source": [
    "Para empezar debemos importar `pandas`, y lo haremos usando el alias `pd`. Al igual que en NumPy, este es un alias ampliamente usado."
   ]
  },
  {
   "cell_type": "code",
   "execution_count": 1,
   "metadata": {},
   "outputs": [],
   "source": [
    "import pandas as pd"
   ]
  },
  {
   "cell_type": "markdown",
   "metadata": {
    "id": "XwaiyLYzz8Sa"
   },
   "source": [
    "# Manipulación de DataFrames\n",
    "\n",
    "Para comenzar, vamos a crear un _DataFrame_ con información sobre algunas películas de Disney. Un **_DataFrame_** es una estructura de datos bidimensional similar a una hoja de cálculo o una tabla de SQL (contenido más avanzado).\n",
    "\n",
    "**Datos de Ejemplo**\n",
    "* Título: Nombre de la película.\n",
    "* Año: Año de lanzamiento.\n",
    "* Género: Género principal de la película.\n",
    "* Duración: Duración de la película en minutos.\n",
    "* Calificación: Calificación promedio en IMDb."
   ]
  },
  {
   "cell_type": "code",
   "execution_count": 2,
   "metadata": {},
   "outputs": [],
   "source": [
    "datos_peliculas = {\n",
    "    'Título': ['Frozen', 'Toy Story', 'The Lion King', 'Moana', 'Coco'],\n",
    "    'Año': [2013, 1995, 1994, 2016, 2017],\n",
    "    'Género': ['Animación', 'Animación', 'Animación', 'Animación', 'Animación'],\n",
    "    'Duración': [102, 81, 88, 107, 105],\n",
    "    'Calificación': [7.4, 8.3, 8.5, 7.6, 8.4]\n",
    "}\n",
    "\n",
    "df_peliculas = pd.DataFrame(datos_peliculas)"
   ]
  },
  {
   "cell_type": "markdown",
   "metadata": {
    "id": "59wPZQXMoPuc"
   },
   "source": [
    "Visualicemos este _DataFrame_ recién creado."
   ]
  },
  {
   "cell_type": "code",
   "execution_count": 3,
   "metadata": {
    "colab": {
     "base_uri": "https://localhost:8080/",
     "height": 204
    },
    "id": "MTpaJJpCxQVv",
    "outputId": "1053da98-d237-46bf-9822-c29b2496404d"
   },
   "outputs": [
    {
     "data": {
      "text/html": [
       "<div>\n",
       "<style scoped>\n",
       "    .dataframe tbody tr th:only-of-type {\n",
       "        vertical-align: middle;\n",
       "    }\n",
       "\n",
       "    .dataframe tbody tr th {\n",
       "        vertical-align: top;\n",
       "    }\n",
       "\n",
       "    .dataframe thead th {\n",
       "        text-align: right;\n",
       "    }\n",
       "</style>\n",
       "<table border=\"1\" class=\"dataframe\">\n",
       "  <thead>\n",
       "    <tr style=\"text-align: right;\">\n",
       "      <th></th>\n",
       "      <th>Título</th>\n",
       "      <th>Año</th>\n",
       "      <th>Género</th>\n",
       "      <th>Duración</th>\n",
       "      <th>Calificación</th>\n",
       "    </tr>\n",
       "  </thead>\n",
       "  <tbody>\n",
       "    <tr>\n",
       "      <th>0</th>\n",
       "      <td>Frozen</td>\n",
       "      <td>2013</td>\n",
       "      <td>Animación</td>\n",
       "      <td>102</td>\n",
       "      <td>7.4</td>\n",
       "    </tr>\n",
       "    <tr>\n",
       "      <th>1</th>\n",
       "      <td>Toy Story</td>\n",
       "      <td>1995</td>\n",
       "      <td>Animación</td>\n",
       "      <td>81</td>\n",
       "      <td>8.3</td>\n",
       "    </tr>\n",
       "    <tr>\n",
       "      <th>2</th>\n",
       "      <td>The Lion King</td>\n",
       "      <td>1994</td>\n",
       "      <td>Animación</td>\n",
       "      <td>88</td>\n",
       "      <td>8.5</td>\n",
       "    </tr>\n",
       "    <tr>\n",
       "      <th>3</th>\n",
       "      <td>Moana</td>\n",
       "      <td>2016</td>\n",
       "      <td>Animación</td>\n",
       "      <td>107</td>\n",
       "      <td>7.6</td>\n",
       "    </tr>\n",
       "    <tr>\n",
       "      <th>4</th>\n",
       "      <td>Coco</td>\n",
       "      <td>2017</td>\n",
       "      <td>Animación</td>\n",
       "      <td>105</td>\n",
       "      <td>8.4</td>\n",
       "    </tr>\n",
       "  </tbody>\n",
       "</table>\n",
       "</div>"
      ],
      "text/plain": [
       "          Título   Año     Género  Duración  Calificación\n",
       "0         Frozen  2013  Animación       102           7.4\n",
       "1      Toy Story  1995  Animación        81           8.3\n",
       "2  The Lion King  1994  Animación        88           8.5\n",
       "3          Moana  2016  Animación       107           7.6\n",
       "4           Coco  2017  Animación       105           8.4"
      ]
     },
     "execution_count": 3,
     "metadata": {},
     "output_type": "execute_result"
    }
   ],
   "source": [
    "df_peliculas"
   ]
  },
  {
   "cell_type": "markdown",
   "metadata": {},
   "source": [
    "## Explorando el DataFrame"
   ]
  },
  {
   "cell_type": "markdown",
   "metadata": {},
   "source": [
    "\n",
    "Podemos obtener información general sobre el _DataFrame_ utilizando el método `.info()`."
   ]
  },
  {
   "cell_type": "code",
   "execution_count": 4,
   "metadata": {},
   "outputs": [
    {
     "name": "stdout",
     "output_type": "stream",
     "text": [
      "<class 'pandas.core.frame.DataFrame'>\n",
      "RangeIndex: 5 entries, 0 to 4\n",
      "Data columns (total 5 columns):\n",
      " #   Column        Non-Null Count  Dtype  \n",
      "---  ------        --------------  -----  \n",
      " 0   Título        5 non-null      object \n",
      " 1   Año           5 non-null      int64  \n",
      " 2   Género        5 non-null      object \n",
      " 3   Duración      5 non-null      int64  \n",
      " 4   Calificación  5 non-null      float64\n",
      "dtypes: float64(1), int64(2), object(2)\n",
      "memory usage: 332.0+ bytes\n"
     ]
    }
   ],
   "source": [
    "df_peliculas.info()"
   ]
  },
  {
   "cell_type": "markdown",
   "metadata": {},
   "source": [
    "Muchas veces tenemos una cantidad enorme de datos, del orden de miles o millones. Para obtener una previsualizacion rapida podemos usar la funcion `.head` y ver las top 5 (por defecto) filas del dataset."
   ]
  },
  {
   "cell_type": "code",
   "execution_count": 5,
   "metadata": {},
   "outputs": [
    {
     "data": {
      "text/html": [
       "<div>\n",
       "<style scoped>\n",
       "    .dataframe tbody tr th:only-of-type {\n",
       "        vertical-align: middle;\n",
       "    }\n",
       "\n",
       "    .dataframe tbody tr th {\n",
       "        vertical-align: top;\n",
       "    }\n",
       "\n",
       "    .dataframe thead th {\n",
       "        text-align: right;\n",
       "    }\n",
       "</style>\n",
       "<table border=\"1\" class=\"dataframe\">\n",
       "  <thead>\n",
       "    <tr style=\"text-align: right;\">\n",
       "      <th></th>\n",
       "      <th>Título</th>\n",
       "      <th>Año</th>\n",
       "      <th>Género</th>\n",
       "      <th>Duración</th>\n",
       "      <th>Calificación</th>\n",
       "    </tr>\n",
       "  </thead>\n",
       "  <tbody>\n",
       "    <tr>\n",
       "      <th>0</th>\n",
       "      <td>Frozen</td>\n",
       "      <td>2013</td>\n",
       "      <td>Animación</td>\n",
       "      <td>102</td>\n",
       "      <td>7.4</td>\n",
       "    </tr>\n",
       "    <tr>\n",
       "      <th>1</th>\n",
       "      <td>Toy Story</td>\n",
       "      <td>1995</td>\n",
       "      <td>Animación</td>\n",
       "      <td>81</td>\n",
       "      <td>8.3</td>\n",
       "    </tr>\n",
       "  </tbody>\n",
       "</table>\n",
       "</div>"
      ],
      "text/plain": [
       "      Título   Año     Género  Duración  Calificación\n",
       "0     Frozen  2013  Animación       102           7.4\n",
       "1  Toy Story  1995  Animación        81           8.3"
      ]
     },
     "execution_count": 5,
     "metadata": {},
     "output_type": "execute_result"
    }
   ],
   "source": [
    "# Veremos las primeras dos\n",
    "df_peliculas.head(2)"
   ]
  },
  {
   "cell_type": "markdown",
   "metadata": {},
   "source": [
    "Para obtener algunas estadísticas descriptivas básicas de las columnas numéricas, podemos usar `.describe()` para datos discretos o `.value_counts` para datos categoricos."
   ]
  },
  {
   "cell_type": "code",
   "execution_count": 6,
   "metadata": {},
   "outputs": [
    {
     "data": {
      "text/html": [
       "<div>\n",
       "<style scoped>\n",
       "    .dataframe tbody tr th:only-of-type {\n",
       "        vertical-align: middle;\n",
       "    }\n",
       "\n",
       "    .dataframe tbody tr th {\n",
       "        vertical-align: top;\n",
       "    }\n",
       "\n",
       "    .dataframe thead th {\n",
       "        text-align: right;\n",
       "    }\n",
       "</style>\n",
       "<table border=\"1\" class=\"dataframe\">\n",
       "  <thead>\n",
       "    <tr style=\"text-align: right;\">\n",
       "      <th></th>\n",
       "      <th>Año</th>\n",
       "      <th>Duración</th>\n",
       "      <th>Calificación</th>\n",
       "    </tr>\n",
       "  </thead>\n",
       "  <tbody>\n",
       "    <tr>\n",
       "      <th>count</th>\n",
       "      <td>5.000000</td>\n",
       "      <td>5.000000</td>\n",
       "      <td>5.000000</td>\n",
       "    </tr>\n",
       "    <tr>\n",
       "      <th>mean</th>\n",
       "      <td>2007.000000</td>\n",
       "      <td>96.600000</td>\n",
       "      <td>8.040000</td>\n",
       "    </tr>\n",
       "    <tr>\n",
       "      <th>std</th>\n",
       "      <td>11.510864</td>\n",
       "      <td>11.458621</td>\n",
       "      <td>0.502991</td>\n",
       "    </tr>\n",
       "    <tr>\n",
       "      <th>min</th>\n",
       "      <td>1994.000000</td>\n",
       "      <td>81.000000</td>\n",
       "      <td>7.400000</td>\n",
       "    </tr>\n",
       "    <tr>\n",
       "      <th>25%</th>\n",
       "      <td>1995.000000</td>\n",
       "      <td>88.000000</td>\n",
       "      <td>7.600000</td>\n",
       "    </tr>\n",
       "    <tr>\n",
       "      <th>50%</th>\n",
       "      <td>2013.000000</td>\n",
       "      <td>102.000000</td>\n",
       "      <td>8.300000</td>\n",
       "    </tr>\n",
       "    <tr>\n",
       "      <th>75%</th>\n",
       "      <td>2016.000000</td>\n",
       "      <td>105.000000</td>\n",
       "      <td>8.400000</td>\n",
       "    </tr>\n",
       "    <tr>\n",
       "      <th>max</th>\n",
       "      <td>2017.000000</td>\n",
       "      <td>107.000000</td>\n",
       "      <td>8.500000</td>\n",
       "    </tr>\n",
       "  </tbody>\n",
       "</table>\n",
       "</div>"
      ],
      "text/plain": [
       "               Año    Duración  Calificación\n",
       "count     5.000000    5.000000      5.000000\n",
       "mean   2007.000000   96.600000      8.040000\n",
       "std      11.510864   11.458621      0.502991\n",
       "min    1994.000000   81.000000      7.400000\n",
       "25%    1995.000000   88.000000      7.600000\n",
       "50%    2013.000000  102.000000      8.300000\n",
       "75%    2016.000000  105.000000      8.400000\n",
       "max    2017.000000  107.000000      8.500000"
      ]
     },
     "execution_count": 6,
     "metadata": {},
     "output_type": "execute_result"
    }
   ],
   "source": [
    "df_peliculas.describe()"
   ]
  },
  {
   "cell_type": "code",
   "execution_count": 7,
   "metadata": {},
   "outputs": [
    {
     "data": {
      "text/plain": [
       "Título         Año   Género     Duración  Calificación\n",
       "Coco           2017  Animación  105       8.4             1\n",
       "Frozen         2013  Animación  102       7.4             1\n",
       "Moana          2016  Animación  107       7.6             1\n",
       "The Lion King  1994  Animación  88        8.5             1\n",
       "Toy Story      1995  Animación  81        8.3             1\n",
       "Name: count, dtype: int64"
      ]
     },
     "execution_count": 7,
     "metadata": {},
     "output_type": "execute_result"
    }
   ],
   "source": [
    "df_peliculas.value_counts()"
   ]
  },
  {
   "cell_type": "markdown",
   "metadata": {},
   "source": [
    "Podemos acceder a una **columna** específica utilizando su nombre, muy similar a lo que vimos en diccionarios."
   ]
  },
  {
   "cell_type": "code",
   "execution_count": 8,
   "metadata": {},
   "outputs": [
    {
     "data": {
      "text/plain": [
       "0           Frozen\n",
       "1        Toy Story\n",
       "2    The Lion King\n",
       "3            Moana\n",
       "4             Coco\n",
       "Name: Título, dtype: object"
      ]
     },
     "execution_count": 8,
     "metadata": {},
     "output_type": "execute_result"
    }
   ],
   "source": [
    "df_peliculas['Título']"
   ]
  },
  {
   "cell_type": "markdown",
   "metadata": {},
   "source": [
    "Para examinar **filas** y **columnas** específicas de un _DataFrame_, `Pandas` proporciona los métodos `iloc` y `loc`: \n",
    "- `iloc` se usa cuando quieres especificar una lista o rango de índices.\n",
    "- `.loc` se usa cuando quieres especificar una lista o rango de etiquetas (o labels).\n",
    "\n",
    "Para ambos métodos, debe especificar dos elementos, con el primer elemento que indica las filas que desea seleccionar y el segundo elemento que indica las columnas que desea seleccionar."
   ]
  },
  {
   "cell_type": "code",
   "execution_count": 9,
   "metadata": {},
   "outputs": [
    {
     "data": {
      "text/plain": [
       "Título             Frozen\n",
       "Año                  2013\n",
       "Género          Animación\n",
       "Duración              102\n",
       "Calificación          7.4\n",
       "Name: 0, dtype: object"
      ]
     },
     "execution_count": 9,
     "metadata": {},
     "output_type": "execute_result"
    }
   ],
   "source": [
    "# Usaremos el índice 0 que referencia la primera fila.\n",
    "df_peliculas.iloc[0]"
   ]
  },
  {
   "cell_type": "code",
   "execution_count": 10,
   "metadata": {},
   "outputs": [
    {
     "data": {
      "text/html": [
       "<div>\n",
       "<style scoped>\n",
       "    .dataframe tbody tr th:only-of-type {\n",
       "        vertical-align: middle;\n",
       "    }\n",
       "\n",
       "    .dataframe tbody tr th {\n",
       "        vertical-align: top;\n",
       "    }\n",
       "\n",
       "    .dataframe thead th {\n",
       "        text-align: right;\n",
       "    }\n",
       "</style>\n",
       "<table border=\"1\" class=\"dataframe\">\n",
       "  <thead>\n",
       "    <tr style=\"text-align: right;\">\n",
       "      <th></th>\n",
       "      <th>Título</th>\n",
       "      <th>Año</th>\n",
       "      <th>Género</th>\n",
       "      <th>Duración</th>\n",
       "    </tr>\n",
       "  </thead>\n",
       "  <tbody>\n",
       "    <tr>\n",
       "      <th>0</th>\n",
       "      <td>Frozen</td>\n",
       "      <td>2013</td>\n",
       "      <td>Animación</td>\n",
       "      <td>102</td>\n",
       "    </tr>\n",
       "    <tr>\n",
       "      <th>1</th>\n",
       "      <td>Toy Story</td>\n",
       "      <td>1995</td>\n",
       "      <td>Animación</td>\n",
       "      <td>81</td>\n",
       "    </tr>\n",
       "  </tbody>\n",
       "</table>\n",
       "</div>"
      ],
      "text/plain": [
       "      Título   Año     Género  Duración\n",
       "0     Frozen  2013  Animación       102\n",
       "1  Toy Story  1995  Animación        81"
      ]
     },
     "execution_count": 10,
     "metadata": {},
     "output_type": "execute_result"
    }
   ],
   "source": [
    "# Accedemos a los datos por la posición:\n",
    "# las primeras 2 filas y las primeras 4 columnas\n",
    "df_peliculas.iloc[:2, :4]"
   ]
  },
  {
   "cell_type": "code",
   "execution_count": 11,
   "metadata": {},
   "outputs": [
    {
     "data": {
      "text/html": [
       "<div>\n",
       "<style scoped>\n",
       "    .dataframe tbody tr th:only-of-type {\n",
       "        vertical-align: middle;\n",
       "    }\n",
       "\n",
       "    .dataframe tbody tr th {\n",
       "        vertical-align: top;\n",
       "    }\n",
       "\n",
       "    .dataframe thead th {\n",
       "        text-align: right;\n",
       "    }\n",
       "</style>\n",
       "<table border=\"1\" class=\"dataframe\">\n",
       "  <thead>\n",
       "    <tr style=\"text-align: right;\">\n",
       "      <th></th>\n",
       "      <th>Título</th>\n",
       "      <th>Año</th>\n",
       "      <th>Género</th>\n",
       "    </tr>\n",
       "  </thead>\n",
       "  <tbody>\n",
       "    <tr>\n",
       "      <th>0</th>\n",
       "      <td>Frozen</td>\n",
       "      <td>2013</td>\n",
       "      <td>Animación</td>\n",
       "    </tr>\n",
       "    <tr>\n",
       "      <th>1</th>\n",
       "      <td>Toy Story</td>\n",
       "      <td>1995</td>\n",
       "      <td>Animación</td>\n",
       "    </tr>\n",
       "    <tr>\n",
       "      <th>2</th>\n",
       "      <td>The Lion King</td>\n",
       "      <td>1994</td>\n",
       "      <td>Animación</td>\n",
       "    </tr>\n",
       "    <tr>\n",
       "      <th>3</th>\n",
       "      <td>Moana</td>\n",
       "      <td>2016</td>\n",
       "      <td>Animación</td>\n",
       "    </tr>\n",
       "    <tr>\n",
       "      <th>4</th>\n",
       "      <td>Coco</td>\n",
       "      <td>2017</td>\n",
       "      <td>Animación</td>\n",
       "    </tr>\n",
       "  </tbody>\n",
       "</table>\n",
       "</div>"
      ],
      "text/plain": [
       "          Título   Año     Género\n",
       "0         Frozen  2013  Animación\n",
       "1      Toy Story  1995  Animación\n",
       "2  The Lion King  1994  Animación\n",
       "3          Moana  2016  Animación\n",
       "4           Coco  2017  Animación"
      ]
     },
     "execution_count": 11,
     "metadata": {},
     "output_type": "execute_result"
    }
   ],
   "source": [
    "# Accedemos a los datos por el nombre:\n",
    "# \":\" indica que accederemos a todas las filas\n",
    "# \":Género\" indica que accederemos la columna \"Género\" y las columnas anteriores a esta\n",
    "df_peliculas.loc[:, :'Género']"
   ]
  },
  {
   "cell_type": "markdown",
   "metadata": {},
   "source": [
    "## Filtrado y selección de datos\n",
    "\n",
    "Podemos filtrar el DataFrame según ciertas condiciones. En este caso buscaremos películas con clasificación mayor a 8. Recordemos siempre asignar el resultado a una variable para no perderla.\n",
    "\n"
   ]
  },
  {
   "cell_type": "code",
   "execution_count": 12,
   "metadata": {},
   "outputs": [
    {
     "data": {
      "text/html": [
       "<div>\n",
       "<style scoped>\n",
       "    .dataframe tbody tr th:only-of-type {\n",
       "        vertical-align: middle;\n",
       "    }\n",
       "\n",
       "    .dataframe tbody tr th {\n",
       "        vertical-align: top;\n",
       "    }\n",
       "\n",
       "    .dataframe thead th {\n",
       "        text-align: right;\n",
       "    }\n",
       "</style>\n",
       "<table border=\"1\" class=\"dataframe\">\n",
       "  <thead>\n",
       "    <tr style=\"text-align: right;\">\n",
       "      <th></th>\n",
       "      <th>Título</th>\n",
       "      <th>Año</th>\n",
       "      <th>Género</th>\n",
       "      <th>Duración</th>\n",
       "      <th>Calificación</th>\n",
       "    </tr>\n",
       "  </thead>\n",
       "  <tbody>\n",
       "    <tr>\n",
       "      <th>1</th>\n",
       "      <td>Toy Story</td>\n",
       "      <td>1995</td>\n",
       "      <td>Animación</td>\n",
       "      <td>81</td>\n",
       "      <td>8.3</td>\n",
       "    </tr>\n",
       "    <tr>\n",
       "      <th>2</th>\n",
       "      <td>The Lion King</td>\n",
       "      <td>1994</td>\n",
       "      <td>Animación</td>\n",
       "      <td>88</td>\n",
       "      <td>8.5</td>\n",
       "    </tr>\n",
       "    <tr>\n",
       "      <th>4</th>\n",
       "      <td>Coco</td>\n",
       "      <td>2017</td>\n",
       "      <td>Animación</td>\n",
       "      <td>105</td>\n",
       "      <td>8.4</td>\n",
       "    </tr>\n",
       "  </tbody>\n",
       "</table>\n",
       "</div>"
      ],
      "text/plain": [
       "          Título   Año     Género  Duración  Calificación\n",
       "1      Toy Story  1995  Animación        81           8.3\n",
       "2  The Lion King  1994  Animación        88           8.5\n",
       "4           Coco  2017  Animación       105           8.4"
      ]
     },
     "execution_count": 12,
     "metadata": {},
     "output_type": "execute_result"
    }
   ],
   "source": [
    "peliculas_top = df_peliculas[df_peliculas['Calificación'] > 8]\n",
    "peliculas_top"
   ]
  },
  {
   "cell_type": "markdown",
   "metadata": {},
   "source": [
    "También podríamos querer buscar películas que fueron estrenadas después del año 2000."
   ]
  },
  {
   "cell_type": "code",
   "execution_count": 13,
   "metadata": {},
   "outputs": [
    {
     "data": {
      "text/html": [
       "<div>\n",
       "<style scoped>\n",
       "    .dataframe tbody tr th:only-of-type {\n",
       "        vertical-align: middle;\n",
       "    }\n",
       "\n",
       "    .dataframe tbody tr th {\n",
       "        vertical-align: top;\n",
       "    }\n",
       "\n",
       "    .dataframe thead th {\n",
       "        text-align: right;\n",
       "    }\n",
       "</style>\n",
       "<table border=\"1\" class=\"dataframe\">\n",
       "  <thead>\n",
       "    <tr style=\"text-align: right;\">\n",
       "      <th></th>\n",
       "      <th>Título</th>\n",
       "      <th>Año</th>\n",
       "      <th>Género</th>\n",
       "      <th>Duración</th>\n",
       "      <th>Calificación</th>\n",
       "    </tr>\n",
       "  </thead>\n",
       "  <tbody>\n",
       "    <tr>\n",
       "      <th>0</th>\n",
       "      <td>Frozen</td>\n",
       "      <td>2013</td>\n",
       "      <td>Animación</td>\n",
       "      <td>102</td>\n",
       "      <td>7.4</td>\n",
       "    </tr>\n",
       "    <tr>\n",
       "      <th>3</th>\n",
       "      <td>Moana</td>\n",
       "      <td>2016</td>\n",
       "      <td>Animación</td>\n",
       "      <td>107</td>\n",
       "      <td>7.6</td>\n",
       "    </tr>\n",
       "    <tr>\n",
       "      <th>4</th>\n",
       "      <td>Coco</td>\n",
       "      <td>2017</td>\n",
       "      <td>Animación</td>\n",
       "      <td>105</td>\n",
       "      <td>8.4</td>\n",
       "    </tr>\n",
       "  </tbody>\n",
       "</table>\n",
       "</div>"
      ],
      "text/plain": [
       "   Título   Año     Género  Duración  Calificación\n",
       "0  Frozen  2013  Animación       102           7.4\n",
       "3   Moana  2016  Animación       107           7.6\n",
       "4    Coco  2017  Animación       105           8.4"
      ]
     },
     "execution_count": 13,
     "metadata": {},
     "output_type": "execute_result"
    }
   ],
   "source": [
    "peliculas_recientes = df_peliculas[df_peliculas['Año'] > 2000]\n",
    "peliculas_recientes"
   ]
  },
  {
   "cell_type": "markdown",
   "metadata": {
    "id": "425t2Okzz_6B"
   },
   "source": [
    "# Modificación de estructura y datos\n",
    "\n",
    "`Pandas` entrega mucha flexibilidad para manejar los datos, con una sintaxis intuitiva. Podemos agregar nuevos datos o nuevas columnas al _DataFrame_.\n",
    "\n",
    "Primero probaremos agregando una nueva película. Para ello definimos un diccionario que contenga la información de la nueva película. Luego convertiremos el diccionario en un **_DataFrame_** de una sola fila."
   ]
  },
  {
   "cell_type": "code",
   "execution_count": 14,
   "metadata": {},
   "outputs": [],
   "source": [
    "nueva_pelicula = {\n",
    "    'Título': 'Encanto',\n",
    "    'Año': 2021,\n",
    "    'Género': 'Animación',\n",
    "    'Duración': 102,\n",
    "    'Calificación': 7.2,\n",
    "}\n",
    "\n",
    "df_nueva_pelicula = pd.DataFrame([nueva_pelicula])"
   ]
  },
  {
   "cell_type": "markdown",
   "metadata": {},
   "source": [
    "Al envolver nueva_pelicula entre corchetes `[ ]`, indicamos que queremos un _DataFrame_ con una fila."
   ]
  },
  {
   "cell_type": "markdown",
   "metadata": {},
   "source": [
    "Utilizamos `pd.concat()` para concatenar el nuevo _DataFrame_ `df_nueva_pelicula` al _DataFrame_ original `df_peliculas`"
   ]
  },
  {
   "cell_type": "code",
   "execution_count": 15,
   "metadata": {},
   "outputs": [
    {
     "data": {
      "text/html": [
       "<div>\n",
       "<style scoped>\n",
       "    .dataframe tbody tr th:only-of-type {\n",
       "        vertical-align: middle;\n",
       "    }\n",
       "\n",
       "    .dataframe tbody tr th {\n",
       "        vertical-align: top;\n",
       "    }\n",
       "\n",
       "    .dataframe thead th {\n",
       "        text-align: right;\n",
       "    }\n",
       "</style>\n",
       "<table border=\"1\" class=\"dataframe\">\n",
       "  <thead>\n",
       "    <tr style=\"text-align: right;\">\n",
       "      <th></th>\n",
       "      <th>Título</th>\n",
       "      <th>Año</th>\n",
       "      <th>Género</th>\n",
       "      <th>Duración</th>\n",
       "      <th>Calificación</th>\n",
       "    </tr>\n",
       "  </thead>\n",
       "  <tbody>\n",
       "    <tr>\n",
       "      <th>0</th>\n",
       "      <td>Frozen</td>\n",
       "      <td>2013</td>\n",
       "      <td>Animación</td>\n",
       "      <td>102</td>\n",
       "      <td>7.4</td>\n",
       "    </tr>\n",
       "    <tr>\n",
       "      <th>1</th>\n",
       "      <td>Toy Story</td>\n",
       "      <td>1995</td>\n",
       "      <td>Animación</td>\n",
       "      <td>81</td>\n",
       "      <td>8.3</td>\n",
       "    </tr>\n",
       "    <tr>\n",
       "      <th>2</th>\n",
       "      <td>The Lion King</td>\n",
       "      <td>1994</td>\n",
       "      <td>Animación</td>\n",
       "      <td>88</td>\n",
       "      <td>8.5</td>\n",
       "    </tr>\n",
       "    <tr>\n",
       "      <th>3</th>\n",
       "      <td>Moana</td>\n",
       "      <td>2016</td>\n",
       "      <td>Animación</td>\n",
       "      <td>107</td>\n",
       "      <td>7.6</td>\n",
       "    </tr>\n",
       "    <tr>\n",
       "      <th>4</th>\n",
       "      <td>Coco</td>\n",
       "      <td>2017</td>\n",
       "      <td>Animación</td>\n",
       "      <td>105</td>\n",
       "      <td>8.4</td>\n",
       "    </tr>\n",
       "    <tr>\n",
       "      <th>5</th>\n",
       "      <td>Encanto</td>\n",
       "      <td>2021</td>\n",
       "      <td>Animación</td>\n",
       "      <td>102</td>\n",
       "      <td>7.2</td>\n",
       "    </tr>\n",
       "  </tbody>\n",
       "</table>\n",
       "</div>"
      ],
      "text/plain": [
       "          Título   Año     Género  Duración  Calificación\n",
       "0         Frozen  2013  Animación       102           7.4\n",
       "1      Toy Story  1995  Animación        81           8.3\n",
       "2  The Lion King  1994  Animación        88           8.5\n",
       "3          Moana  2016  Animación       107           7.6\n",
       "4           Coco  2017  Animación       105           8.4\n",
       "5        Encanto  2021  Animación       102           7.2"
      ]
     },
     "execution_count": 15,
     "metadata": {},
     "output_type": "execute_result"
    }
   ],
   "source": [
    "df_peliculas = pd.concat([df_peliculas, df_nueva_pelicula], ignore_index=True)\n",
    "df_peliculas"
   ]
  },
  {
   "cell_type": "markdown",
   "metadata": {},
   "source": [
    "Podemos también aplicar otras modificaciones. A continuación, calcularemos la calificación ajustada multiplicando la calificación por 10. Primero agregaremos una nueva columna llamada `'Clasificación Ajustada'`, la cual toma una columna existente y la modifica (no permanentemente)."
   ]
  },
  {
   "cell_type": "code",
   "execution_count": 16,
   "metadata": {},
   "outputs": [
    {
     "data": {
      "text/html": [
       "<div>\n",
       "<style scoped>\n",
       "    .dataframe tbody tr th:only-of-type {\n",
       "        vertical-align: middle;\n",
       "    }\n",
       "\n",
       "    .dataframe tbody tr th {\n",
       "        vertical-align: top;\n",
       "    }\n",
       "\n",
       "    .dataframe thead th {\n",
       "        text-align: right;\n",
       "    }\n",
       "</style>\n",
       "<table border=\"1\" class=\"dataframe\">\n",
       "  <thead>\n",
       "    <tr style=\"text-align: right;\">\n",
       "      <th></th>\n",
       "      <th>Título</th>\n",
       "      <th>Año</th>\n",
       "      <th>Género</th>\n",
       "      <th>Duración</th>\n",
       "      <th>Calificación</th>\n",
       "      <th>Calificación Ajustada</th>\n",
       "    </tr>\n",
       "  </thead>\n",
       "  <tbody>\n",
       "    <tr>\n",
       "      <th>0</th>\n",
       "      <td>Frozen</td>\n",
       "      <td>2013</td>\n",
       "      <td>Animación</td>\n",
       "      <td>102</td>\n",
       "      <td>7.4</td>\n",
       "      <td>74.0</td>\n",
       "    </tr>\n",
       "    <tr>\n",
       "      <th>1</th>\n",
       "      <td>Toy Story</td>\n",
       "      <td>1995</td>\n",
       "      <td>Animación</td>\n",
       "      <td>81</td>\n",
       "      <td>8.3</td>\n",
       "      <td>83.0</td>\n",
       "    </tr>\n",
       "    <tr>\n",
       "      <th>2</th>\n",
       "      <td>The Lion King</td>\n",
       "      <td>1994</td>\n",
       "      <td>Animación</td>\n",
       "      <td>88</td>\n",
       "      <td>8.5</td>\n",
       "      <td>85.0</td>\n",
       "    </tr>\n",
       "    <tr>\n",
       "      <th>3</th>\n",
       "      <td>Moana</td>\n",
       "      <td>2016</td>\n",
       "      <td>Animación</td>\n",
       "      <td>107</td>\n",
       "      <td>7.6</td>\n",
       "      <td>76.0</td>\n",
       "    </tr>\n",
       "    <tr>\n",
       "      <th>4</th>\n",
       "      <td>Coco</td>\n",
       "      <td>2017</td>\n",
       "      <td>Animación</td>\n",
       "      <td>105</td>\n",
       "      <td>8.4</td>\n",
       "      <td>84.0</td>\n",
       "    </tr>\n",
       "    <tr>\n",
       "      <th>5</th>\n",
       "      <td>Encanto</td>\n",
       "      <td>2021</td>\n",
       "      <td>Animación</td>\n",
       "      <td>102</td>\n",
       "      <td>7.2</td>\n",
       "      <td>72.0</td>\n",
       "    </tr>\n",
       "  </tbody>\n",
       "</table>\n",
       "</div>"
      ],
      "text/plain": [
       "          Título   Año     Género  Duración  Calificación  \\\n",
       "0         Frozen  2013  Animación       102           7.4   \n",
       "1      Toy Story  1995  Animación        81           8.3   \n",
       "2  The Lion King  1994  Animación        88           8.5   \n",
       "3          Moana  2016  Animación       107           7.6   \n",
       "4           Coco  2017  Animación       105           8.4   \n",
       "5        Encanto  2021  Animación       102           7.2   \n",
       "\n",
       "   Calificación Ajustada  \n",
       "0                   74.0  \n",
       "1                   83.0  \n",
       "2                   85.0  \n",
       "3                   76.0  \n",
       "4                   84.0  \n",
       "5                   72.0  "
      ]
     },
     "execution_count": 16,
     "metadata": {},
     "output_type": "execute_result"
    }
   ],
   "source": [
    "df_peliculas['Calificación Ajustada'] = df_peliculas['Calificación'] * 10\n",
    "df_peliculas"
   ]
  },
  {
   "cell_type": "markdown",
   "metadata": {},
   "source": [
    "Otras características interesantes son la agrupación, utilizando `.groupby`. En caso de contar con enormes cantidades de datos, estas opraciones son realizadas de forma muy eficiente en tiempo. En el siguiente ejemplo agruparemos por `'Género'` y obtendremos el promedio de `'Calificación'`."
   ]
  },
  {
   "cell_type": "code",
   "execution_count": 17,
   "metadata": {},
   "outputs": [
    {
     "data": {
      "text/plain": [
       "Género\n",
       "Animación    7.9\n",
       "Name: Calificación, dtype: float64"
      ]
     },
     "execution_count": 17,
     "metadata": {},
     "output_type": "execute_result"
    }
   ],
   "source": [
    "promedio_calificacion = df_peliculas.groupby('Género')['Calificación'].mean()\n",
    "promedio_calificacion"
   ]
  },
  {
   "cell_type": "markdown",
   "metadata": {},
   "source": [
    "## Visualización usando Matplotlib\n",
    "\n",
    "Finalmente podemos utilizar `Pandas` en combinación con otras librerías, y en este caso demostraremos `matplotlib` como una potente y rápida herramienta de visualización.\n",
    "\n",
    "Crearemos un gráfico de barras que visualiza esta clasificación según IMDb."
   ]
  },
  {
   "cell_type": "code",
   "execution_count": 18,
   "metadata": {},
   "outputs": [
    {
     "data": {
      "image/png": "[encoded data removed]",
      "text/plain": [
       "<Figure size 1000x500 with 1 Axes>"
      ]
     },
     "metadata": {},
     "output_type": "display_data"
    }
   ],
   "source": [
    "import matplotlib.pyplot as plt # también un alias ampliamente usado\n",
    "\n",
    "plt.figure(figsize=(10,5))\n",
    "plt.bar(df_peliculas['Título'], df_peliculas['Calificación'], color='skyblue')\n",
    "plt.title('Calificaciones de Películas de Disney')\n",
    "plt.xlabel('Películas')\n",
    "plt.ylabel('Calificación IMDb')\n",
    "plt.show()"
   ]
  },
  {
   "cell_type": "markdown",
   "metadata": {},
   "source": [
    "# Combinación de varios Dataframes\n",
    "\n",
    "Supongamos que tenemos información financiera adicional de nuestras películas de Disney, como el presupuesto y la recaudación en taquilla. Crearemos un nuevo _DataFrame_ con esta información.\n",
    "\n",
    "Veremos la potencia de utilizar otra forma de concatenar `.join`: Para poder utilizar `.join`, necesitamos que ambos _DataFrames_ tengan el mismo índice. Por lo tanto, estableceremos `'Título'` como índice en nuestro _DataFrame_ original `df_peliculas`.\n",
    "\n",
    "Podemos realizar una visualización interesante. Por ejemplo, podemos crear un gráfico de dispersión que muestre la relación entre el presupuesto y la recaudación en taquilla de las películas."
   ]
  },
  {
   "cell_type": "code",
   "execution_count": 19,
   "metadata": {},
   "outputs": [
    {
     "data": {
      "image/png": "[encoded data removed]",
      "text/plain": [
       "<Figure size 1000x600 with 1 Axes>"
      ]
     },
     "metadata": {},
     "output_type": "display_data"
    }
   ],
   "source": [
    "import pandas as pd\n",
    "import matplotlib.pyplot as plt\n",
    "\n",
    "# Datos originales de películas que trabajamos anteriormente\n",
    "datos_peliculas = {\n",
    "    'Título': ['Frozen', 'Toy Story', 'The Lion King', 'Moana', 'Coco', 'Encanto'],\n",
    "    'Año': [2013, 1995, 1994, 2016, 2017, 2021],\n",
    "    'Género': ['Animación'] * 6,\n",
    "    'Duración': [102, 81, 88, 107, 105, 102],\n",
    "    'Calificación': [7.4, 8.3, 8.5, 7.6, 8.4, 7.2]\n",
    "}\n",
    "df_peliculas = pd.DataFrame(datos_peliculas)\n",
    "df_peliculas['Calificación Ajustada'] = df_peliculas['Calificación'] * 10\n",
    "\n",
    "# Datos nuevos sobre los datos financieros de estas películas\n",
    "datos_financieros = {\n",
    "    'Título': ['Frozen', 'Toy Story', 'The Lion King', 'Moana', 'Coco', 'Encanto'],\n",
    "    'Presupuesto (millones USD)': [150, 30, 45, 150, 175, 120],\n",
    "    'Recaudación (millones USD)': [1276.5, 373.6, 968.5, 643.3, 807.1, 256.8]\n",
    "}\n",
    "df_finanzas = pd.DataFrame(datos_financieros)\n",
    "\n",
    "# Estableceremos 'Título' como índice en ambos DataFrames, para generar la consistencia al unir\n",
    "df_peliculas.set_index('Título', inplace=True)\n",
    "df_finanzas.set_index('Título', inplace=True)\n",
    "\n",
    "# Finalmente unimos ambos DataFrames\n",
    "df_completo = df_peliculas.join(df_finanzas)\n",
    "\n",
    "# Visualizaremos la unión y las relaciones mediante matplotlib\n",
    "plt.figure(figsize=(10, 6))\n",
    "plt.scatter(df_completo['Presupuesto (millones USD)'], df_completo['Recaudación (millones USD)'], color='purple')\n",
    "plt.title('Relación entre Presupuesto y Recaudación de Películas de Disney')\n",
    "plt.xlabel('Presupuesto (millones USD)')\n",
    "plt.ylabel('Recaudación (millones USD)')\n",
    "\n",
    "for idx, row in df_completo.iterrows():\n",
    "    plt.annotate(idx, (row['Presupuesto (millones USD)'], row['Recaudación (millones USD)']), textcoords=\"offset points\", xytext=(0,10), ha='center')\n",
    "\n",
    "plt.grid(True)\n",
    "plt.show()"
   ]
  },
  {
   "cell_type": "markdown",
   "metadata": {},
   "source": [
    "# Guardar y abrir datos como CSV\n",
    "\n",
    "Para finalizar, aprenderemos cómo guardar nuestro _DataFrame_ en un archivo CSV y cómo cargar datos desde un archivo CSV utilizando `Pandas`. Esto es esencial para almacenar tus datos y reutilizarlos en futuros análisis sin tener que recrearlos desde cero.\n",
    "\n",
    "**Guardar en un archivo CSV**\n",
    "\n",
    "El método `to_csv()` de `Pandas` te permite guardar un _DataFrame_ en un archivo CSV de manera sencilla. (Ten en cuenta que la siguiente línea de código modificará tus archivos).\n",
    "\n",
    "**Cargar datos desde un archivo CSV**\n",
    "\n",
    "Para cargar datos desde un archivo CSV y crear un _DataFrame_, utilizamos el método `pd.read_csv()`."
   ]
  },
  {
   "cell_type": "code",
   "execution_count": 20,
   "metadata": {},
   "outputs": [],
   "source": [
    "df_peliculas.to_csv('peliculas_disney.csv', index=False)"
   ]
  },
  {
   "cell_type": "code",
   "execution_count": 21,
   "metadata": {},
   "outputs": [
    {
     "data": {
      "text/html": [
       "<div>\n",
       "<style scoped>\n",
       "    .dataframe tbody tr th:only-of-type {\n",
       "        vertical-align: middle;\n",
       "    }\n",
       "\n",
       "    .dataframe tbody tr th {\n",
       "        vertical-align: top;\n",
       "    }\n",
       "\n",
       "    .dataframe thead th {\n",
       "        text-align: right;\n",
       "    }\n",
       "</style>\n",
       "<table border=\"1\" class=\"dataframe\">\n",
       "  <thead>\n",
       "    <tr style=\"text-align: right;\">\n",
       "      <th></th>\n",
       "      <th>Año</th>\n",
       "      <th>Género</th>\n",
       "      <th>Duración</th>\n",
       "      <th>Calificación</th>\n",
       "      <th>Calificación Ajustada</th>\n",
       "    </tr>\n",
       "  </thead>\n",
       "  <tbody>\n",
       "    <tr>\n",
       "      <th>0</th>\n",
       "      <td>2013</td>\n",
       "      <td>Animación</td>\n",
       "      <td>102</td>\n",
       "      <td>7.4</td>\n",
       "      <td>74.0</td>\n",
       "    </tr>\n",
       "    <tr>\n",
       "      <th>1</th>\n",
       "      <td>1995</td>\n",
       "      <td>Animación</td>\n",
       "      <td>81</td>\n",
       "      <td>8.3</td>\n",
       "      <td>83.0</td>\n",
       "    </tr>\n",
       "    <tr>\n",
       "      <th>2</th>\n",
       "      <td>1994</td>\n",
       "      <td>Animación</td>\n",
       "      <td>88</td>\n",
       "      <td>8.5</td>\n",
       "      <td>85.0</td>\n",
       "    </tr>\n",
       "    <tr>\n",
       "      <th>3</th>\n",
       "      <td>2016</td>\n",
       "      <td>Animación</td>\n",
       "      <td>107</td>\n",
       "      <td>7.6</td>\n",
       "      <td>76.0</td>\n",
       "    </tr>\n",
       "    <tr>\n",
       "      <th>4</th>\n",
       "      <td>2017</td>\n",
       "      <td>Animación</td>\n",
       "      <td>105</td>\n",
       "      <td>8.4</td>\n",
       "      <td>84.0</td>\n",
       "    </tr>\n",
       "    <tr>\n",
       "      <th>5</th>\n",
       "      <td>2021</td>\n",
       "      <td>Animación</td>\n",
       "      <td>102</td>\n",
       "      <td>7.2</td>\n",
       "      <td>72.0</td>\n",
       "    </tr>\n",
       "  </tbody>\n",
       "</table>\n",
       "</div>"
      ],
      "text/plain": [
       "    Año     Género  Duración  Calificación  Calificación Ajustada\n",
       "0  2013  Animación       102           7.4                   74.0\n",
       "1  1995  Animación        81           8.3                   83.0\n",
       "2  1994  Animación        88           8.5                   85.0\n",
       "3  2016  Animación       107           7.6                   76.0\n",
       "4  2017  Animación       105           8.4                   84.0\n",
       "5  2021  Animación       102           7.2                   72.0"
      ]
     },
     "execution_count": 21,
     "metadata": {},
     "output_type": "execute_result"
    }
   ],
   "source": [
    "df_cargado = pd.read_csv('peliculas_disney.csv')\n",
    "\n",
    "df_cargado"
   ]
  }
 ],
 "metadata": {
  "colab": {
   "provenance": []
  },
  "kernelspec": {
   "display_name": "3.11.11",
   "language": "python",
   "name": "python3"
  },
  "language_info": {
   "codemirror_mode": {
    "name": "ipython",
    "version": 3
   },
   "file_extension": ".py",
   "mimetype": "text/x-python",
   "name": "python",
   "nbconvert_exporter": "python",
   "pygments_lexer": "ipython3",
   "version": "3.11.11"
  }
 },
 "nbformat": 4,
 "nbformat_minor": 4
}
