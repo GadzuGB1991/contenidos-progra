{
 "cells": [
  {
   "cell_type": "markdown",
   "id": "350fb575",
   "metadata": {},
   "source": [
    "<p>\n",
    "<font size='5' face='Georgia, Arial'>IIC2233 Apunte Programación Avanzada</font><br>\n",
    "<font size='1'> Modificado en 2019-1 al 2025-2 por Equipo Docente IIC2233. </font>\n",
    "</p>"
   ]
  },
  {
   "cell_type": "markdown",
   "id": "0f1aa21e",
   "metadata": {},
   "source": [
    "# Tabla de contenidos\n",
    "\n",
    "1. [WebServices](#webservices)\n",
    "2. [API (*Application Programming Interface*)](#api-application-programming-interface)\n",
    "3. [HTTP (*Hypertext Transfer Protocol*)](#http-hypertext-transfer-protocol)"
   ]
  },
  {
   "cell_type": "markdown",
   "id": "f78de0fb-2877-4abe-afeb-8f444005333b",
   "metadata": {},
   "source": [
    "## WebServices"
   ]
  },
  {
   "cell_type": "markdown",
   "id": "4ece352b",
   "metadata": {},
   "source": [
    "En nuestro primer acercamiento al uso de networking, revisaremos la comunicación entre dos dispositivos mediante la **web**.\n",
    "\n",
    "***Web services*** es el conjunto de aplicaciones cliente-servidor que se comunican a través de la web mediante un protocolo diseñado para ello. Podemos ver este tipo de servicios como aplicaciones que pueden ser accedidas por otras aplicaciones a través de una red de computadores (internet).\n",
    "\n",
    "Por ejemplo, cuando nuestro navegador (cliente) consume un sitio web (servidor), por cada **llamada al servidor**, una aplicación escrita en algún lenguaje de programación **envía una respuesta** en [HTML](https://es.wikipedia.org/wiki/HTML) (el lenguaje que se utiliza para definir la estructura de un sitio web) para que nuestro navegador la despliegue. Los _web services_ funcionan de forma similar, donde la salida está dirigida a una **aplicación que consume** esta información. Para que la comunicación sea posible, el formato de los mensajes debe ser conocido por ambas partes, para que la información pueda ser interpretada correctamente."
   ]
  },
  {
   "cell_type": "markdown",
   "id": "6912f199",
   "metadata": {},
   "source": [
    "## API (*Application Programming Interface*)\n",
    "\n",
    "En general se conoce como **API** al conjunto de funciones que son expuestas por un servicio para ser utilizadas por otros programas. Podemos ver al servicio como una clase, y a la API como el conjunto de métodos de esa clase. El servicio puede ser un *web service* o cualquier paquete que exponga una interfaz, por ejemplo una librería de Python. Sin embargo, en este capítulo cuando hablemos de API nos estaremos refiriendo a los métodos expuestos por un servicio web (un *web service*).\n",
    "\n",
    "Una gran parte de los servicios actuales exponen una API, y permiten que otras aplicaciones se conectan a ellas. De esta manera podemos construir aplicaciones que utilizan servicios que se encuentren en computadores remotos, e interactuar con ellos.\n",
    "\n",
    "En una red de computadores, cada página web de internet es almacenada en un computador remoto que ejecuta un proceso servidor. Un servidor remoto es simplemente un programa que escuchas *requests* (solicitudes) y envía *responses* (respuestas) de acuerdo a un protocolo.\n",
    "\n",
    "Tú puedes utilizar tu propio computador para servir un sitio web. De hecho, los desarrolladores de *software* usan sus propios computadores como servidores locales al crear sitios web antes de publicarlos al mundo.\n",
    "\n",
    "Cuando escribes https://www.spotify.com en tu navegador, este envía una *request* a un servidor remoto de Spotify. Una vez que tu navegador recibe la respuesta del servidor, este la interpreta y despliega una página para ti.\n",
    "\n",
    "Para el navegador (cliente), el servidor de Spotify es una API. Esto significa que cada vez que tú visitas una página en la web, tú interactúas con alguna API en un servidor remoto. Una API no es lo mismo que un servidor remoto, pero es la parte de este que recibe las *requests* y envía *responses* (respuestas).\n",
    "\n",
    "Si cada objeto tecnológico de tu casa expusiera una API, podrías controlarla completamente desde tu celular o desde cualquier programa en Python u otro lenguaje (ver más en [internet de las cosas](https://es.wikipedia.org/wiki/Internet_de_las_cosas)).\n"
   ]
  },
  {
   "cell_type": "markdown",
   "id": "911e5d8b",
   "metadata": {},
   "source": [
    "## HTTP (*Hypertext Transfer Protocol*)\n",
    "\n",
    "Gran parte de las arquitecturas de *web services* se basan en el uso del protocolo **HTTP**. Este protocolo de aplicación está encargado de proporcionar una capa para realización de transacciones y así permitir la comunicación entre clientes y servidores. HTTP trabaja como un protocolo ***request-response*** en donde el cliente hace una solicitud (*request*) y el servidor responde con la información solicitada (*response*).\n",
    "\n",
    "HTTP es un protocolo en el que el servidor no guarda ninguna información de las conexiones. Por ejemplo, al acceder a métodos de un servicio web que requiere identificación del cliente, este deberá en cada consulta enviar **algo** que acredite su identidad.\n",
    "\n",
    "El funcionamiento de este protocolo se basa en la definición de **métodos o verbos** que indican la acción a desarrollar por un determinado recurso. Los recursos pueden ser datos existentes en el servidor (por ejemplo, archivos) o bien una salida generada dinámicamente. La versión HTTP/1.1 incluye **cinco** métodos:\n",
    "\n",
    "- `GET`: recupera una representación de un recurso sin cambiar nada en el servidor.\n",
    "- `POST`: crea un recurso.\n",
    "- `PATCH`: aplica modificaciones parciales a un recurso.\n",
    "- `PUT`: reemplaza completamente un recurso existente.\n",
    "- `DELETE`: elimina un recurso.\n",
    "\n",
    "HTTP incluye también un conjunto de **códigos de estado** mediante los cuales se entrega información al cliente sobre el resultado de su petición. Algunos códigos comunes de respuesta son:\n",
    "\n",
    "- `200` : OK. Solicitud exitosa.\n",
    "- `403` : Prohibido. La petición es aceptada, pero el servidor rechaza responderla.\n",
    "- `404` : No encontrado. El recurso solicitado no ha sido encontrado.\n",
    "- `500` : Error interno del servidor.\n",
    "\n",
    "Para más detalle de los códigos pueden revisar el siguiente [enlace]( http://www.w3schools.com/tags/ref_httpmessages.asp).\n",
    "\n",
    "Adicionalmente, tanto las *request* como las *response*: \n",
    "* Presentan un ***header***, el cual almacena información adicional a la consulta o respuesta, como es el caso de las credenciales de autentificación, almacenamiento en cache, cookies, [entre otros](https://developer.mozilla.org/docs/Web/HTTP/Reference/Headers).\n",
    "* Pueden presentar un **body**, el cual corresponde a los datos transmitidos en la consulta o respuesta.  \n",
    "  El tipo de información que almacena el *body* de un mensaje puede variar, por lo que se utiliza el *header* `Content-type` para indicar el tipo de información que almacena el *body*. Algunos de estos son:\n",
    "    * HTML (`Content-Type: text/html`)\n",
    "    * JSON (`Content-Type: application/json`)\n",
    "    * Texto plano (`Content-Type: text/plain`)\n",
    "    * Imágenes (`Content-Type: image/jpeg, image/png, image/gif` dependiendo del tipo de archivo)\n",
    "\n",
    "\n",
    "Para resumir todo lo anterior, la siguiente figura muestra un ejemplo con la estructura de los mensaje HTTP para la *request* del cliente y para la *response* desde el servidor.\n",
    "\n",
    "![](img/http_message.png)\n"
   ]
  }
 ],
 "metadata": {
  "kernelspec": {
   "display_name": "Python 3",
   "language": "python",
   "name": "python3"
  },
  "language_info": {
   "codemirror_mode": {
    "name": "ipython",
    "version": 3
   },
   "file_extension": ".py",
   "mimetype": "text/x-python",
   "name": "python",
   "nbconvert_exporter": "python",
   "pygments_lexer": "ipython3",
   "version": "3.11.7"
  }
 },
 "nbformat": 4,
 "nbformat_minor": 5
}
