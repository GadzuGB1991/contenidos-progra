{
 "cells": [
  {
   "cell_type": "markdown",
   "metadata": {},
   "source": [
    "<p>\n",
    "<font size='5' face='Georgia, Arial'>IIC-2233 Apunte Programación Avanzada</font><br>\n",
    "<font size='1'>&copy; 2015-2016 Karim Pichara - Christian Pieringer. Todos los derechos reservados. \n",
    "Editado por equipo docente IIC2233 2018-1 al 2025-2</font>\n",
    "\n",
    "<font size='1' face='Arial'>Agradecimientos a los ayudantes del curso Belén Saldías, Ivania Donoso, Patricio López, Jaime Castro, Rodrigo Gómez y Marco Bucchi por su colaboración durante la revisión de la creación de este material.</font>\n",
    "</p>"
   ]
  },
  {
   "attachments": {},
   "cell_type": "markdown",
   "metadata": {},
   "source": [
    "# Tabla de contenidos\n",
    "\n",
    "1. [Nodo](#Nodo)\n",
    "2. [Listas Ligadas](#Listas-Ligadas)  \n",
    "    1. [`def agregar(valor)`](#def-agregar(valor))  \n",
    "    2. [`def obtener(posicion)`](#def-obtener(posicion))  \n",
    "    3. [`def insertar(valor, posicion)`](#def-insertar(valor,-posicion))\n",
    "    4. [Iterar sobre Listas Ligadas](#Iterar-sobre-Listas-Ligadas)\n",
    "3. [Otras estructuras de datos](#Otras-estructuras-de-datos)"
   ]
  },
  {
   "cell_type": "markdown",
   "metadata": {},
   "source": [
    "Si bien Python, nos entregan una diversidad de estructuras de datos genéricas (listas, tuplas, *sets*, diccionarios, etc), la realidad es que en ciertas ocasiones estas estructuras no serán lo suficientemente complejas para reflejar la complejidad de lo que queremos representar.\n",
    "\n",
    "Es por lo anterior que en este notebook estudiaremos las bases para representar agrupaciones de datos y las relaciones entre estos, utilizando OOP."
   ]
  },
  {
   "cell_type": "markdown",
   "metadata": {},
   "source": [
    "## Nodo\n",
    "\n",
    "El **nodo** corresponde a la base de las estructuras de datos. Un **nodo** es una unidad indivisible que contiene **datos** y que podemos identificar a través de un atributo llave (*key*). Cada nodo mantiene cero o más referencias con **otros nodos** a los que llamará **nodos vecinos** con los que mantiene una relación. Un conjunto de nodos, dado que se relacionan entre sí, nos permiten definir estructuras de datos más complejas y expresivas para representar información.\n",
    "\n",
    "![](img/node.png)"
   ]
  },
  {
   "cell_type": "markdown",
   "metadata": {},
   "source": [
    "## Listas Ligadas\n",
    "\n",
    "Una lista ligada es una estructura que almacena nodos en un orden secuencial (como las listas, *stacks*, y colas), en que cada nodo posee una referencia a un único nodo **sucesor** (*next node*). El primer nodo de una lista ligada es denominado **cabeza** (*head*) de la lista, y el último, que no posee sucesor, es denominado **cola** (*tail*). \n",
    "\n",
    "Notar que este concepto de **cola** se refiere a la denominación del último elemento de una lista (*tail*), y no a la estructura secuencial que, en inglés, denominamos *queue*. Para evitar confusiones cuando sea necesario, nos referiremos a él como **nodo cola**.\n",
    "\n",
    "Para modelar un nodo de una lista ligada, utilizaremos una clase `Nodo` que tendrá como atributos un valor almacenado en el nodo (`valor`) y una referencia a su nodo sucesor (`siguiente`, también llamado `next`). Para el caso del nodo cola, su atributo `siguiente` será `None`, ya que es el último nodo en la secuencia.\n",
    "\n",
    "\n",
    "![](img/linkedlist.png)"
   ]
  },
  {
   "cell_type": "code",
   "execution_count": 249,
   "metadata": {
    "ExecuteTime": {
     "end_time": "2019-04-05T02:36:38.178005Z",
     "start_time": "2019-04-05T02:36:38.164233Z"
    }
   },
   "outputs": [],
   "source": [
    "from typing import Any\n",
    "\n",
    "class Nodo:\n",
    "    \"\"\"\n",
    "    Esta clase representa un nodo de una lista ligada\n",
    "    \"\"\"\n",
    "    \n",
    "    def __init__(self, valor: Any = None) -> None:\n",
    "        \"\"\"\n",
    "        Inicializa la estructura del nodo\n",
    "        \"\"\"\n",
    "        self.valor = valor\n",
    "        self.siguiente = None  # Al crear un nodo, \n",
    "                               # la referencia al siguiente nodo comienza vacía\n",
    "\n",
    "    def __repr__(self) -> str:\n",
    "        return f\"Nodo[{self.valor}]\""
   ]
  },
  {
   "cell_type": "markdown",
   "metadata": {},
   "source": [
    "Creamos una clase abstracta `EstructuraSecuencialNodal` la cual almacenará `Nodos` y contedrá las características (atributos y metodos) que compartirán los distintos iterables que a lo largo de este notebook"
   ]
  },
  {
   "cell_type": "code",
   "execution_count": 250,
   "metadata": {},
   "outputs": [],
   "source": [
    "from abc import ABC, abstractmethod\n",
    "from typing import Any\n",
    "\n",
    "\n",
    "class EstructuraSecuencialNodal(ABC):\n",
    "    \"\"\"\n",
    "    Clase abstracta que representa una estructura secuencial\n",
    "    en base a Nodos\n",
    "    \"\"\"\n",
    "\n",
    "    # Todas nuestras estructuras secuenciales poseen:\n",
    "    #   una cabeza y una cola que inicialmente estan vacías\n",
    "    #   un largo\n",
    "    #   un nodo inicial al cual referenciar\n",
    "    @abstractmethod\n",
    "    def __init__(self) -> None:\n",
    "        self.cabeza = None\n",
    "        self.largo = 0\n",
    "\n",
    "    @abstractmethod\n",
    "    def agregar(valor: Any) -> None:\n",
    "        pass\n",
    "\n",
    "    @abstractmethod\n",
    "    def obtener(posicion: int) -> Any:\n",
    "        pass\n",
    "\n",
    "    @abstractmethod\n",
    "    def insertar(valor: Any, posicion: int) -> None:\n",
    "        pass\n",
    "\n",
    "    def __len__(self) -> int:\n",
    "        contador = 0\n",
    "        nodo_actual = self.cabeza\n",
    "        while nodo_actual:\n",
    "            nodo_actual = nodo_actual.siguiente\n",
    "            contador += 1\n",
    "        self.largo = contador\n",
    "        return self.largo"
   ]
  },
  {
   "cell_type": "code",
   "execution_count": 251,
   "metadata": {},
   "outputs": [],
   "source": [
    "# Creamos la base de nuestra Lista Ligada\n",
    "class ListaLigada(EstructuraSecuencialNodal):\n",
    "    \"\"\"\n",
    "    Clase que representa una lista ligada\n",
    "    \"\"\"\n",
    "\n",
    "    def __init__(self) -> None:\n",
    "        \"\"\"\n",
    "        Inicializa una lista ligada vacía,\n",
    "        con una referencia nula a su cabeza y cola\n",
    "        \"\"\"\n",
    "        super().__init__()\n",
    "        # Como nuestra LL parte vacía, hacemos que la referencia\n",
    "        # a su cola sea igual que a su cabeza\n",
    "        self.cola = self.cabeza\n",
    "\n",
    "    def agregar(valor: Any) -> None:\n",
    "        return super().agregar(valor)\n",
    "    \n",
    "    def obtener(posicion: int) -> Any:\n",
    "        return super().obtener(posicion)\n",
    "    \n",
    "    def insertar(valor: Any, posicion: int) -> None:\n",
    "        return super().insertar(valor, posicion)"
   ]
  },
  {
   "cell_type": "code",
   "execution_count": 252,
   "metadata": {},
   "outputs": [
    {
     "data": {
      "text/plain": [
       "0"
      ]
     },
     "execution_count": 252,
     "metadata": {},
     "output_type": "execute_result"
    }
   ],
   "source": [
    "ll = ListaLigada()\n",
    "len(ll)"
   ]
  },
  {
   "attachments": {},
   "cell_type": "markdown",
   "metadata": {},
   "source": [
    "Definiremos la estructura `ListaLigada`, usando una clase que referencia directamente, y solamente, a los nodos _cabeza_ y _cola_ de la secuencia. Para recorrer y alterar la lista ligada, es necesario acceder mediante las referencias de los nodos que la componen. Es decir, para acceder a un nodo que no es la cabeza o la cola de la lista, debemos utilizar las referencias de nodos desde la cabeza. La estructura que modelamos tendrá tres métodos:\n",
    "1. `def agregar(valor)`\n",
    "2. `def obtener(posicion)`\n",
    "3. `def insertar(valor, posicion)`\n",
    "\n",
    "A continuación, veamos cada método en detalle:\n",
    "#### `def agregar(valor)`\n",
    "\n",
    "Este método permite agregar un nuevo nodo al final de la lista ligada con el valor `valor`. Es similar al método `append` de `list`. Se puede implementar de manera muy eficiente con los siguientes pasos: \n",
    "\n",
    "1. Crear un nodo nuevo, con el valor dado.\n",
    "2. Al nodo __cola__ actual, añadirle como sucesor el nodo recién creado. \n",
    "3. Actualizar el atributo `cola` de la lista ligada, para que sea el nodo nuevo.\n",
    "\n",
    "#### `def obtener(posicion)`\n",
    "\n",
    "Este método permite recuperar el valor almacenado en el nodo que está en la posición `posicion` de la lista ligada. A diferencia de la estructura _list_ de Python, no hay acceso indexado (`lista[indice]`), por lo que es necesario recorrer cada nodo hasta encontrar la posición deseada. Se comienza accediendo el nodo __cabeza__ de la lista y mediante la referencia `siguiente` se accede al siguiente nodo en la lista. Se repite ese acceso hasta llegar a la posición `posicion` deseada.\n",
    "\n",
    "#### `def insertar(valor, posicion)`\n",
    "\n",
    "Este método permite agregar un nuevo nodo con valor `valor` en la posición `posicion` de la lista ligada. Esto se puede implementar de la siguiente manera:\n",
    "\n",
    "1. Crear un nodo nuevo, con el valor dado.\n",
    "2. Buscar el nodo de la posición en la que se quiere insertar ($n_{\\text{aft}}$). Después de la inserción, este nodo quedará \"después\" del nodo nuevo. \n",
    "3. Buscar el nodo anterior a la posición en que se quiere insertar ($n_{\\text{pre}}$). Después de la inserción, este nodo quedará \"antes\" del nodo nuevo.\n",
    "3. Hacer que el nodo siguiente del nodo nuevo sea $n_{\\text{aft}}$.\n",
    "4. Hacer que el nodo siguiente de $n_{\\text{pre}}$ sea el nodo nuevo.\n",
    "\n",
    "Por ejemplo, en la siguiente animación se quiere insertar un nodo en la posición 2:\n",
    "\n",
    "![animación fabulosa de linkedlist](./img/linkedlist-insertion.gif)  \n",
    "Fuente: [VisuAlgo](https://visualgo.net/en/list)"
   ]
  },
  {
   "cell_type": "markdown",
   "metadata": {},
   "source": [
    "Ahora, implementamos la lista ligada y cada una de las operaciones en el siguiente _snippet_ de código:"
   ]
  },
  {
   "cell_type": "code",
   "execution_count": 253,
   "metadata": {
    "ExecuteTime": {
     "end_time": "2019-04-05T02:36:38.296236Z",
     "start_time": "2019-04-05T02:36:38.261707Z"
    }
   },
   "outputs": [],
   "source": [
    "from typing import Any\n",
    "\n",
    "\n",
    "class ListaLigada(EstructuraSecuencialNodal):\n",
    "    \"\"\"\n",
    "    Clase que representa una lista ligada\n",
    "    \"\"\"\n",
    "\n",
    "    def __init__(self) -> None:\n",
    "        \"\"\"\n",
    "        Inicializa una lista ligada vacía,\n",
    "        con una referencia nula a su cabeza y cola\n",
    "        \"\"\"\n",
    "        super().__init__()\n",
    "        # Como nuestra LL parte vacía, hacemos que la referencia\n",
    "        # a su cola sea igual que a su cabeza\n",
    "        self.cola = self.cabeza\n",
    "\n",
    "    def agregar(self, valor: Any) -> None:\n",
    "        \"\"\"\n",
    "        Agrega un nodo al final de la cola, similar a lista.append\n",
    "        \"\"\"\n",
    "        # Inicializamos el nuevo nodo\n",
    "        nuevo = Nodo(valor)\n",
    "\n",
    "        # Si la lista está vacía (no hay cabeza)\n",
    "        if self.cabeza is None:\n",
    "            # El nuevo nodo es la cabeza y cola de la lista\n",
    "            self.cabeza = nuevo\n",
    "            self.cola = self.cabeza\n",
    "        else:\n",
    "            # Agregamos el nuevo nodo como sucesor del nodo cola actual\n",
    "            self.cola.siguiente = nuevo\n",
    "            # Actualizamos la referencia al nodo cola\n",
    "            self.cola = self.cola.siguiente\n",
    "        self.largo += 1\n",
    "\n",
    "    def obtener(self, posicion: int) -> Any:\n",
    "        \"\"\"\n",
    "        Busca el valor del nodo que está en la posición indicada,\n",
    "        partiendo de 0\n",
    "        \"\"\"\n",
    "        # Revisamos que la posición sea válida\n",
    "        if posicion < 0:\n",
    "            print(f'---No es posible obtener el valor en dicha posición---')\n",
    "            return None\n",
    "        \n",
    "        # Empezamos en la cabeza (nodo inicial en esta estructura)\n",
    "        nodo_actual = self.cabeza\n",
    "\n",
    "        # Recorremos secuencialmente la lista ligada siguiendo los punteros\n",
    "        # al nodo siguiente\n",
    "        for _ in range(posicion):\n",
    "            # Revisamos que no se haya llegado al final de la lista\n",
    "            if nodo_actual is not None:\n",
    "                nodo_actual = nodo_actual.siguiente\n",
    "\n",
    "        # Si buscamos una posición mayor a la longitud de la lista ligada\n",
    "        if nodo_actual is None:\n",
    "            return None  # Retorna \"nada\"\n",
    "        return nodo_actual.valor\n",
    "\n",
    "    def insertar(self, valor: Any, posicion: int) -> None:\n",
    "        \"\"\"\n",
    "        Inserta un valor nuevo en una posición arbitraria\n",
    "        \"\"\"\n",
    "        # Revisamos que la posición sea válida\n",
    "        if posicion < 0:\n",
    "            print(f'---No es posible insertar el valor en dicha posición---')\n",
    "            return None\n",
    "        \n",
    "        # Inicializamos el nuevo nodo\n",
    "        nodo_nuevo = Nodo(valor)\n",
    "        # Empezamos en la cabeza (nodo inicial en esta estructura)\n",
    "        nodo_actual = self.cabeza\n",
    "\n",
    "        # Caso particular: insertar en la cabeza\n",
    "        if posicion == 0:\n",
    "            # Actualizamos la cabeza\n",
    "            nodo_nuevo.siguiente = self.cabeza\n",
    "            self.cabeza = nodo_nuevo\n",
    "            # Caso más particular. Si la lista estaba vacía,\n",
    "            # actualizamos la cola\n",
    "            if nodo_nuevo.siguiente is None:\n",
    "                self.cola = nodo_nuevo\n",
    "            # Terminamos de ejecutar la función\n",
    "            self.largo += 1\n",
    "            return\n",
    "\n",
    "        # Buscamos el nodo predecesor\n",
    "        for _ in range(posicion - 1):\n",
    "            if nodo_actual is not None:\n",
    "                nodo_actual = nodo_actual.siguiente\n",
    "\n",
    "        # Si encontramos el predecesor, actualizamos las referencias\n",
    "        if nodo_actual is not None:\n",
    "            # Si no lo hacemos en este orden perdemos la referencia\n",
    "            # al resto de la lista ligada\n",
    "            nodo_nuevo.siguiente = nodo_actual.siguiente\n",
    "            nodo_actual.siguiente = nodo_nuevo\n",
    "            # Caso particular: si es que insertamos en la última posición\n",
    "            if nodo_nuevo.siguiente is None:\n",
    "                self.cola = nodo_nuevo\n",
    "            self.largo += 1\n",
    "        else:\n",
    "            print(f'---No es posible insertar el valor en dicha posición---')\n",
    "            return None\n",
    "\n",
    "    def __repr__(self) -> str:\n",
    "        \"\"\"\n",
    "        Forma una representación de la lista\n",
    "        \"\"\"\n",
    "        string = \"\"\n",
    "        nodo_actual = self.cabeza\n",
    "        while nodo_actual is not None:\n",
    "            string = f\"{string}{nodo_actual.valor} → \"\n",
    "            nodo_actual = nodo_actual.siguiente\n",
    "        return string"
   ]
  },
  {
   "cell_type": "markdown",
   "metadata": {},
   "source": [
    "Acá probamos que nuestra lista ligada funciona:"
   ]
  },
  {
   "cell_type": "code",
   "execution_count": 254,
   "metadata": {
    "ExecuteTime": {
     "end_time": "2019-04-05T02:36:38.409640Z",
     "start_time": "2019-04-05T02:36:38.352458Z"
    }
   },
   "outputs": [
    {
     "name": "stdout",
     "output_type": "stream",
     "text": [
      "\n",
      "2 → \n",
      "2 → 3 → \n",
      "2 → 3 → 5 → \n",
      "2 → 3 → 5 → 7 → \n",
      "2 → 3 → 5 → 7 → 11.0 → \n",
      "Largo de Lista Ligada: 5\n"
     ]
    }
   ],
   "source": [
    "ll = ListaLigada()\n",
    "print(ll)\n",
    "ll.agregar(2)\n",
    "print(ll)\n",
    "ll.agregar(3)\n",
    "print(ll)\n",
    "ll.agregar(5)\n",
    "print(ll)\n",
    "ll.agregar(7)\n",
    "print(ll)\n",
    "ll.agregar(11.0)\n",
    "print(ll)\n",
    "print(f'Largo de Lista Ligada: {len(ll)}')"
   ]
  },
  {
   "cell_type": "code",
   "execution_count": 255,
   "metadata": {
    "ExecuteTime": {
     "end_time": "2019-04-05T02:36:38.409640Z",
     "start_time": "2019-04-05T02:36:38.352458Z"
    }
   },
   "outputs": [
    {
     "name": "stdout",
     "output_type": "stream",
     "text": [
      "Largo de Lista Ligada: 5\n",
      "Posición 0: 2\n",
      "Posición 2: 5\n",
      "Posición 4: 11.0\n",
      "Posición 20: None\n"
     ]
    }
   ],
   "source": [
    "print(f'Largo de Lista Ligada: {ll.largo}')\n",
    "print(f\"Posición {0}: {ll.obtener(0)}\")\n",
    "print(f\"Posición {2}: {ll.obtener(2)}\")\n",
    "print(f\"Posición {4}: {ll.obtener(4)}\")\n",
    "print(f\"Posición {20}: {ll.obtener(20)}\")"
   ]
  },
  {
   "cell_type": "code",
   "execution_count": 256,
   "metadata": {
    "ExecuteTime": {
     "end_time": "2019-04-05T02:36:38.464066Z",
     "start_time": "2019-04-05T02:36:38.422584Z"
    }
   },
   "outputs": [
    {
     "name": "stdout",
     "output_type": "stream",
     "text": [
      "2 → 3 → cuatro → 5 → 7 → 11.0 → \n",
      "\tLargo de Lista Ligada: 6\n",
      "cero → 2 → 3 → cuatro → 5 → 7 → 11.0 → \n",
      "\tLargo de Lista Ligada: 7\n",
      "cero → uno → 2 → 3 → cuatro → 5 → 7 → 11.0 → \n",
      "\tLargo de Lista Ligada: 8\n",
      "cero → uno → 2 → 3 → cuatro → 5 → 7 → 11.0 → trece → \n",
      "\tLargo de Lista Ligada: 9\n",
      "---No es posible insertar el valor en dicha posición---\n",
      "cero → uno → 2 → 3 → cuatro → 5 → 7 → 11.0 → trece → \n",
      "\tLargo de Lista Ligada: 9\n"
     ]
    }
   ],
   "source": [
    "ll.insertar(\"cuatro\", 2)\n",
    "print(ll)\n",
    "print(f'\\tLargo de Lista Ligada: {ll.largo}')\n",
    "ll.insertar(\"cero\", 0)\n",
    "print(ll)\n",
    "print(f'\\tLargo de Lista Ligada: {ll.largo}')\n",
    "ll.insertar(\"uno\", 1)\n",
    "print(ll)\n",
    "print(f'\\tLargo de Lista Ligada: {ll.largo}')\n",
    "ll.insertar(\"trece\", 8)\n",
    "print(ll)\n",
    "print(f'\\tLargo de Lista Ligada: {ll.largo}')\n",
    "ll.insertar(\"veinte\", 20)\n",
    "print(ll)\n",
    "print(f'\\tLargo de Lista Ligada: {ll.largo}')"
   ]
  },
  {
   "cell_type": "code",
   "execution_count": 257,
   "metadata": {
    "ExecuteTime": {
     "end_time": "2019-04-05T02:36:38.513614Z",
     "start_time": "2019-04-05T02:36:38.480492Z"
    }
   },
   "outputs": [
    {
     "name": "stdout",
     "output_type": "stream",
     "text": [
      "Largo de Lista Ligada: 9\n",
      "Posición 0: cero\n",
      "Posición 7: 11.0\n",
      "Posición 100: None\n"
     ]
    }
   ],
   "source": [
    "print(f'Largo de Lista Ligada: {ll.largo}')\n",
    "print(f\"Posición {0}: {ll.obtener(0)}\")\n",
    "print(f\"Posición {7}: {ll.obtener(7)}\")\n",
    "print(f\"Posición {100}: {ll.obtener(100)}\")"
   ]
  },
  {
   "cell_type": "markdown",
   "metadata": {},
   "source": [
    "### Iterar sobre Listas Ligadas"
   ]
  },
  {
   "cell_type": "markdown",
   "metadata": {},
   "source": [
    "Como vimos anteriormente, si queremos recorrer los elementos de una lista ligada, debemos acceder de forma manual a cada uno de los nodos que la componen y acceder al nodo que lo sucede hasta llegar al nodo cola:"
   ]
  },
  {
   "cell_type": "code",
   "execution_count": 258,
   "metadata": {},
   "outputs": [],
   "source": [
    "ll = ListaLigada()\n",
    "ll.agregar(2)\n",
    "ll.agregar(3)\n",
    "ll.agregar(5)\n",
    "ll.agregar(8)\n",
    "ll.agregar(13)"
   ]
  },
  {
   "cell_type": "code",
   "execution_count": 259,
   "metadata": {},
   "outputs": [
    {
     "name": "stdout",
     "output_type": "stream",
     "text": [
      "Recorreremos 5 elementos...\n",
      "Nodo[2] Nodo[3] Nodo[5] Nodo[8] Nodo[13] "
     ]
    }
   ],
   "source": [
    "nodo_actual = ll.cabeza\n",
    "\n",
    "print(f'Recorreremos {len(ll)} elementos...')\n",
    "while nodo_actual is not None:\n",
    "    print(nodo_actual, end=\" \")\n",
    "    nodo_actual = nodo_actual.siguiente"
   ]
  },
  {
   "cell_type": "markdown",
   "metadata": {},
   "source": [
    "Pero, aplicando nuestros conocimientos sobre iterables e iteradores, podemos adaptar esta estructura para que pueda ser recorrida mediante el uso de `for`. Para lograr lo anterior, deberemos implementar las clases iterador e iterable, junto con los métodos `__iter__` y `__next__`:"
   ]
  },
  {
   "cell_type": "code",
   "execution_count": 260,
   "metadata": {},
   "outputs": [],
   "source": [
    "from typing import Any\n",
    "from __future__ import annotations\n",
    "\n",
    "\n",
    "class IteradorListaLigada:\n",
    "    def __init__(self, cabeza: Nodo) -> None:\n",
    "        self.nodo_actual = cabeza\n",
    "\n",
    "    def __iter__(self) -> IteradorListaLigada:\n",
    "        return self\n",
    "    \n",
    "    def __next__(self) -> Any:\n",
    "        if self.nodo_actual is None:\n",
    "            raise StopIteration(\"Llegamos al final\")\n",
    "        else:\n",
    "            nodo = self.nodo_actual\n",
    "            self.nodo_actual = self.nodo_actual.siguiente\n",
    "            return nodo"
   ]
  },
  {
   "cell_type": "code",
   "execution_count": 261,
   "metadata": {},
   "outputs": [],
   "source": [
    "class IterableListaLigada(ListaLigada):\n",
    "    \n",
    "    def __iter__(self) -> IteradorListaLigada:\n",
    "        return IteradorListaLigada(self.cabeza)"
   ]
  },
  {
   "cell_type": "code",
   "execution_count": 262,
   "metadata": {},
   "outputs": [
    {
     "name": "stdout",
     "output_type": "stream",
     "text": [
      "2 → 3 → 5 → 8 → 13 → \n"
     ]
    }
   ],
   "source": [
    "lista_iterable = IterableListaLigada()\n",
    "lista_iterable.agregar(2)\n",
    "lista_iterable.agregar(3)\n",
    "lista_iterable.agregar(5)\n",
    "lista_iterable.agregar(8)\n",
    "lista_iterable.agregar(13)\n",
    "\n",
    "print(lista_iterable)"
   ]
  },
  {
   "cell_type": "code",
   "execution_count": 263,
   "metadata": {},
   "outputs": [
    {
     "name": "stdout",
     "output_type": "stream",
     "text": [
      "Recorreremos 5 elementos...\n",
      "Nodo[2] Nodo[3] Nodo[5] Nodo[8] Nodo[13] "
     ]
    }
   ],
   "source": [
    "print(f'Recorreremos {len(lista_iterable)} elementos...')\n",
    "for nodo in lista_iterable:\n",
    "    print(nodo, end=' ')"
   ]
  },
  {
   "cell_type": "markdown",
   "metadata": {},
   "source": [
    "## Otras estructuras de datos\n",
    "\n",
    "Además de las Listas Ligadas, existen múltiples estructuras de datos basadas en nodos:\n",
    "* Árboles\n",
    "    * Árboles binarios\n",
    "    * Árbol de Búsqueda Binaria\n",
    "    * Árbol *Trie*\n",
    "    * *Heap*\n",
    "* Grafos\n",
    "    * Grafos direccionales\n",
    "    * Grafos bidireccionales\n",
    "* Entre otros\n",
    "\n",
    "Debido al alcance de este curso, no podremos profundizar tanto en este contenido. Si estás interesado en aprender más, te invitamos a investigar sobre el curso \"IIC2133 - Estructuras de Datos y Algoritmos\". "
   ]
  }
 ],
 "metadata": {
  "anaconda-cloud": {},
  "kernelspec": {
   "display_name": "Python 3 (ipykernel)",
   "language": "python",
   "name": "python3"
  },
  "language_info": {
   "codemirror_mode": {
    "name": "ipython",
    "version": 3
   },
   "file_extension": ".py",
   "mimetype": "text/x-python",
   "name": "python",
   "nbconvert_exporter": "python",
   "pygments_lexer": "ipython3",
   "version": "3.10.12"
  },
  "varInspector": {
   "cols": {
    "lenName": 16,
    "lenType": 16,
    "lenVar": 40
   },
   "kernels_config": {
    "python": {
     "delete_cmd_postfix": "",
     "delete_cmd_prefix": "del ",
     "library": "var_list.py",
     "varRefreshCmd": "print(var_dic_list())"
    },
    "r": {
     "delete_cmd_postfix": ") ",
     "delete_cmd_prefix": "rm(",
     "library": "var_list.r",
     "varRefreshCmd": "cat(var_dic_list()) "
    }
   },
   "types_to_exclude": [
    "module",
    "function",
    "builtin_function_or_method",
    "instance",
    "_Feature"
   ],
   "window_display": false
  }
 },
 "nbformat": 4,
 "nbformat_minor": 4
}
